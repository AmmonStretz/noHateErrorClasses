{
 "cells": [
  {
   "cell_type": "code",
   "execution_count": null,
   "metadata": {},
   "outputs": [],
   "source": [
    "#config for load prediction from model\n",
    "\n",
    "testset = 'nohate_trainset.csv'\n",
    "#testset = 'nohate_testset.csv'\n",
    "model_url = 'https://demo.datexis.com/nohate-farm-fu/models/1/inference'\n",
    "prediction_file = 'predictions2.json'\n",
    "\n",
    "#maximum stepsize is 100\n",
    "stepsize = 100\n",
    "maxLines = 2600"
   ]
  }
 ],
 "metadata": {
  "kernelspec": {
   "display_name": "Python 3",
   "language": "python",
   "name": "python3"
  },
  "language_info": {
   "codemirror_mode": {
    "name": "ipython",
    "version": 3
   },
   "file_extension": ".py",
   "mimetype": "text/x-python",
   "name": "python",
   "nbconvert_exporter": "python",
   "pygments_lexer": "ipython3",
   "version": "3.7.6"
  }
 },
 "nbformat": 4,
 "nbformat_minor": 4
}
