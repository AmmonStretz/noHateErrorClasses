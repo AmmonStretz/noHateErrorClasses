{
 "cells": [
  {
   "cell_type": "code",
   "execution_count": 4,
   "metadata": {},
   "outputs": [
    {
     "name": "stdout",
     "output_type": "stream",
     "text": [
      "number of rows: 2616\n",
      "Request contained 0 comments.\n"
     ]
    }
   ],
   "source": [
    "%run ../config.ipynb\n",
    "\n",
    "import csv\n",
    "import requests\n",
    "import datetime\n",
    "import math\n",
    "\n",
    "requestData = []\n",
    "responseData = []\n",
    "output = []\n",
    "i = 0\n",
    "\n",
    "def label_from_string(string):\n",
    "    if string == \"hate\" or string == \"1\":\n",
    "        return True\n",
    "    return False\n",
    "\n",
    "with open('data/'+testset, encoding=\"utf8\") as csvfile:\n",
    "    reader = csv.DictReader(csvfile)\n",
    "    print('number of rows:', len(list(reader)))\n",
    "    for row in reader:\n",
    "        requestData.append({\"text\": row['text']})\n",
    "        responseData.append({\"id\": row[\"id\"], \"label\": row[\"label\"], \"text\": row['text']})\n",
    "        if ((i+1)%stepsize == 0 or i == maxLines - 1) and i < maxLines:\n",
    "            print(\"Request\", int(i/stepsize), \"/\", math.ceil(maxLines/stepsize))\n",
    "            response = requests.post(\n",
    "                url = model_url,\n",
    "                json = { 'input': requestData}\n",
    "            )\n",
    "            response = response.json()['predictions']\n",
    "            for j in range(len(requestData)):\n",
    "                output.append({\n",
    "                    \"id\": int(responseData[j][\"id\"]),\n",
    "                    \"label\": label_from_string(responseData[j][\"label\"]),\n",
    "                    \"text\": responseData[j]['text'],\n",
    "                    \"prediction\": label_from_string(response[j][\"label\"]),\n",
    "                    \"probability\": float(response[j][\"probability\"])\n",
    "                })\n",
    "            print(\"Request done.\")\n",
    "            requestData = []\n",
    "            responseData = []\n",
    "        i = i + 1\n",
    "\n",
    "print(\"Request contained\", len(output), \"comments.\")"
   ]
  },
  {
   "cell_type": "code",
   "execution_count": 3,
   "metadata": {},
   "outputs": [],
   "source": [
    "# Saves predictions as json\n",
    "import json\n",
    "\n",
    "with open('data/'+prediction_file, 'w') as outfile:\n",
    "    json.dump(output, outfile)"
   ]
  },
  {
   "cell_type": "code",
   "execution_count": null,
   "metadata": {},
   "outputs": [],
   "source": []
  }
 ],
 "metadata": {
  "kernelspec": {
   "display_name": "Python 3",
   "language": "python",
   "name": "python3"
  },
  "language_info": {
   "codemirror_mode": {
    "name": "ipython",
    "version": 3
   },
   "file_extension": ".py",
   "mimetype": "text/x-python",
   "name": "python",
   "nbconvert_exporter": "python",
   "pygments_lexer": "ipython3",
   "version": "3.7.6"
  }
 },
 "nbformat": 4,
 "nbformat_minor": 2
}
