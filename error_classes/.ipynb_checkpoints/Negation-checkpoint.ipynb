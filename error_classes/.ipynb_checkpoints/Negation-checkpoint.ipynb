{
 "cells": [
  {
   "cell_type": "markdown",
   "metadata": {},
   "source": [
    "# Negation #"
   ]
  },
  {
   "cell_type": "code",
   "execution_count": 1,
   "metadata": {},
   "outputs": [],
   "source": [
    "%run ../config.ipynb\n",
    "%run ../lib/data_loader.ipynb\n",
    "%run ../lib/helper_functions.ipynb\n",
    "%run ../lib/diagram_generator.ipynb\n",
    "%run ../lib/metrics_generator.ipynb\n",
    "%run ../lib/table_generator.ipynb\n",
    "\n",
    "data = load_data('../data/predictions.json')"
   ]
  },
  {
   "cell_type": "code",
   "execution_count": 2,
   "metadata": {},
   "outputs": [],
   "source": [
    "# als Teilwort\n",
    "def all(c):\n",
    "    return True\n",
    "def find_filter(contains):\n",
    "    def f(element):\n",
    "        return element['text'].lower().find(contains) > 0\n",
    "    return f"
   ]
  },
  {
   "cell_type": "code",
   "execution_count": 4,
   "metadata": {},
   "outputs": [
    {
     "data": {
      "image/png": "[encoded data removed]",
      "text/plain": [
       "<Figure size 432x288 with 1 Axes>"
      ]
     },
     "metadata": {
      "needs_background": "light"
     },
     "output_type": "display_data"
    },
    {
     "data": {
      "image/png": "[encoded data removed]",
      "text/plain": [
       "<Figure size 432x288 with 1 Axes>"
      ]
     },
     "metadata": {
      "needs_background": "light"
     },
     "output_type": "display_data"
    }
   ],
   "source": [
    "diagram_filters = []\n",
    "diagram_filters.append(('all', all))\n",
    "diagram_filters.append(('nie',find_filter('nie')))\n",
    "diagram_filters.append(('nicht',find_filter('nicht')))\n",
    "diagram_filters.append(('kein',find_filter('kein')))\n",
    "diagram_filters.append(('nein',find_filter('nein')))\n",
    "diagram_filters.append(('weder',find_filter('weder')))\n",
    "diagram_filters.append(('falsch',find_filter('falsch')))\n",
    "diagram_filters.append(('nirgend',find_filter('nirgend')))\n",
    "\n",
    "#name, filters, relative\n",
    "create_plt(name = \"Test1 absolute\", filters = diagram_filters, relative = False)\n",
    "create_plt(name = \"Test1 relative\", filters = diagram_filters, relative = True)"
   ]
  },
  {
   "cell_type": "code",
   "execution_count": 5,
   "metadata": {},
   "outputs": [
    {
     "name": "stdout",
     "output_type": "stream",
     "text": [
      "all\n"
     ]
    },
    {
     "data": {
      "text/html": [
       "<table>\n",
       "<tbody>\n",
       "<tr><td>                 </td><td>label hate (245)</td><td>label nohate (425)</td></tr>\n",
       "<tr><td>pred hate (245)  </td><td>157             </td><td>88                </td></tr>\n",
       "<tr><td>pred nohate (425)</td><td>130             </td><td>295               </td></tr>\n",
       "</tbody>\n",
       "</table>"
      ],
      "text/plain": [
       "<IPython.core.display.HTML object>"
      ]
     },
     "metadata": {},
     "output_type": "display_data"
    },
    {
     "data": {
      "text/html": [
       "<table>\n",
       "<tbody>\n",
       "<tr><td>accuracy          </td><td>precision         </td><td>recall            </td><td>f1_score          </td></tr>\n",
       "<tr><td>0.6746268656716418</td><td>0.6408163265306123</td><td>0.5470383275261324</td><td>0.5902255639097745</td></tr>\n",
       "</tbody>\n",
       "</table>"
      ],
      "text/plain": [
       "<IPython.core.display.HTML object>"
      ]
     },
     "metadata": {},
     "output_type": "display_data"
    },
    {
     "name": "stdout",
     "output_type": "stream",
     "text": [
      "contains \"kein\"\n"
     ]
    },
    {
     "data": {
      "text/html": [
       "<table>\n",
       "<tbody>\n",
       "<tr><td>                </td><td>label hate (32)</td><td>label nohate (47)</td></tr>\n",
       "<tr><td>pred hate (32)  </td><td>21             </td><td>11               </td></tr>\n",
       "<tr><td>pred nohate (47)</td><td>21             </td><td>26               </td></tr>\n",
       "</tbody>\n",
       "</table>"
      ],
      "text/plain": [
       "<IPython.core.display.HTML object>"
      ]
     },
     "metadata": {},
     "output_type": "display_data"
    },
    {
     "data": {
      "text/html": [
       "<table>\n",
       "<tbody>\n",
       "<tr><td>accuracy          </td><td>precision</td><td>recall</td><td>f1_score          </td></tr>\n",
       "<tr><td>0.5949367088607594</td><td>0.65625  </td><td>0.5   </td><td>0.5675675675675675</td></tr>\n",
       "</tbody>\n",
       "</table>"
      ],
      "text/plain": [
       "<IPython.core.display.HTML object>"
      ]
     },
     "metadata": {},
     "output_type": "display_data"
    },
    {
     "name": "stdout",
     "output_type": "stream",
     "text": [
      "contains \"kein\" difference\n"
     ]
    },
    {
     "data": {
      "text/html": [
       "<table>\n",
       "<tbody>\n",
       "<tr><td>                 </td><td>label hate (245)</td><td>label nohate (425)</td></tr>\n",
       "<tr><td>pred hate (255)  </td><td>178             </td><td>77                </td></tr>\n",
       "<tr><td>pred nohate (415)</td><td>109             </td><td>306               </td></tr>\n",
       "</tbody>\n",
       "</table>"
      ],
      "text/plain": [
       "<IPython.core.display.HTML object>"
      ]
     },
     "metadata": {},
     "output_type": "display_data"
    },
    {
     "data": {
      "text/html": [
       "<table>\n",
       "<tbody>\n",
       "<tr><td>accuracy          </td><td>precision         </td><td>recall            </td><td>f1_score          </td></tr>\n",
       "<tr><td>0.7223880597014926</td><td>0.6980392156862745</td><td>0.6202090592334495</td><td>0.6568265682656826</td></tr>\n",
       "</tbody>\n",
       "</table>"
      ],
      "text/plain": [
       "<IPython.core.display.HTML object>"
      ]
     },
     "metadata": {},
     "output_type": "display_data"
    }
   ],
   "source": [
    "print('all')\n",
    "show_metrics(calc_metrics())\n",
    "print('contains \"kein\"')\n",
    "show_metrics(calc_metrics(diagram_filters[3][1]))\n",
    "print('contains \"kein\" difference')\n",
    "show_metrics(calc_metric_difference(calc_metrics(diagram_filters[3][1])))"
   ]
  },
  {
   "cell_type": "code",
   "execution_count": null,
   "metadata": {},
   "outputs": [],
   "source": []
  }
 ],
 "metadata": {
  "kernelspec": {
   "display_name": "Python 3",
   "language": "python",
   "name": "python3"
  },
  "language_info": {
   "codemirror_mode": {
    "name": "ipython",
    "version": 3
   },
   "file_extension": ".py",
   "mimetype": "text/x-python",
   "name": "python",
   "nbconvert_exporter": "python",
   "pygments_lexer": "ipython3",
   "version": "3.7.6"
  }
 },
 "nbformat": 4,
 "nbformat_minor": 2
}
