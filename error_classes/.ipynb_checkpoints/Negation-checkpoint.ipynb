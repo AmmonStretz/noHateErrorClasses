{
 "cells": [
  {
   "cell_type": "markdown",
   "metadata": {},
   "source": [
    "# Negation #\n",
    "\n",
    "Hypothesis: “The use of negations can make it harder to understand the meaning of comment for the model”\n",
    "\n",
    "Reason: “Negation is often found in false positives such as ‘I honestly hate the term ‘feminazi’ so much. Stop it’. Further, expression of Stereotypical views such as in ‘... these same girls ... didn’t cook that well and aren’t very nice’ is also common in false negative sexism tweets. These are difficult to capture because they require understanding of the implications of the language.” (Detecting Hate Speech on Twitter Using a Convolution-GRU Based Deep Neural Network, Zhang et al. 2018)\n",
    "\n",
    "ID: 198\n",
    "Label: False\n",
    "Prediction: True\n",
    "Confidence: 0.9166397\n",
    "Comment: Alle anderen waren und sind keine Flüchtlinge, denn sie wurden weder verfolgt noch kommen sie aus Kriegsgebieten."
   ]
  },
  {
   "cell_type": "code",
   "execution_count": 4,
   "metadata": {},
   "outputs": [],
   "source": [
    "%run ../config.ipynb\n",
    "%run ../lib/data_loader.ipynb\n",
    "%run ../lib/helper_functions.ipynb\n",
    "%run ../lib/diagram_generator.ipynb\n",
    "%run ../lib/metrics_generator.ipynb\n",
    "%run ../lib/table_generator.ipynb\n",
    "\n",
    "data = load_data('../data/predictions.json')"
   ]
  },
  {
   "cell_type": "code",
   "execution_count": 5,
   "metadata": {},
   "outputs": [],
   "source": [
    "# als Teilwort\n",
    "def all(c):\n",
    "    return True\n",
    "def find_filter(contains):\n",
    "    def f(element):\n",
    "        return element['text'].lower().find(contains) > 0\n",
    "    return f\n",
    "def allNegations(element):\n",
    "    negation_words = ['nie', 'nicht', 'kein', 'nein', 'weder', 'falsch', 'nirgend']\n",
    "    for nw in negation_words:\n",
    "        if element['text'].lower().find(nw) > 0:\n",
    "            return True\n",
    "    return False"
   ]
  },
  {
   "cell_type": "code",
   "execution_count": 6,
   "metadata": {},
   "outputs": [
    {
     "data": {
      "image/png": "[encoded data removed]",
      "text/plain": [
       "<Figure size 432x288 with 1 Axes>"
      ]
     },
     "metadata": {
      "needs_background": "light"
     },
     "output_type": "display_data"
    },
    {
     "data": {
      "image/png": "[encoded data removed]",
      "text/plain": [
       "<Figure size 432x288 with 1 Axes>"
      ]
     },
     "metadata": {
      "needs_background": "light"
     },
     "output_type": "display_data"
    }
   ],
   "source": [
    "diagram_filters = []\n",
    "diagram_filters.append(('all', all))\n",
    "diagram_filters.append(('negations',allNegations))\n",
    "diagram_filters.append(('nie',find_filter('nie')))\n",
    "diagram_filters.append(('nicht',find_filter('nicht')))\n",
    "diagram_filters.append(('kein',find_filter('kein')))\n",
    "diagram_filters.append(('nein',find_filter('nein')))\n",
    "diagram_filters.append(('weder',find_filter('weder')))\n",
    "diagram_filters.append(('falsch',find_filter('falsch')))\n",
    "diagram_filters.append(('nirgend',find_filter('nirgend')))\n",
    "\n",
    "#name, filters, relative\n",
    "create_plt(name = \"absolute\", filters = diagram_filters, relative = False)\n",
    "create_plt(name = \"relative\", filters = diagram_filters, relative = True)"
   ]
  },
  {
   "cell_type": "code",
   "execution_count": 7,
   "metadata": {},
   "outputs": [
    {
     "name": "stdout",
     "output_type": "stream",
     "text": [
      "all\n"
     ]
    },
    {
     "data": {
      "text/html": [
       "<table>\n",
       "<tbody>\n",
       "<tr><td>                 </td><td>label hate (287)</td><td>label nohate (383)</td></tr>\n",
       "<tr><td>pred hate (245)  </td><td>157             </td><td>88                </td></tr>\n",
       "<tr><td>pred nohate (425)</td><td>130             </td><td>295               </td></tr>\n",
       "</tbody>\n",
       "</table>"
      ],
      "text/plain": [
       "<IPython.core.display.HTML object>"
      ]
     },
     "metadata": {},
     "output_type": "display_data"
    },
    {
     "data": {
      "text/html": [
       "<table>\n",
       "<tbody>\n",
       "<tr><td>accuracy          </td><td>precision         </td><td>recall            </td><td>f1_score          </td></tr>\n",
       "<tr><td>0.6746268656716418</td><td>0.6408163265306123</td><td>0.5470383275261324</td><td>0.5902255639097745</td></tr>\n",
       "</tbody>\n",
       "</table>"
      ],
      "text/plain": [
       "<IPython.core.display.HTML object>"
      ]
     },
     "metadata": {},
     "output_type": "display_data"
    },
    {
     "name": "stdout",
     "output_type": "stream",
     "text": [
      "contains all negations\n"
     ]
    },
    {
     "data": {
      "text/html": [
       "<table>\n",
       "<tbody>\n",
       "<tr><td>                 </td><td>label hate (160)</td><td>label nohate (175)</td></tr>\n",
       "<tr><td>pred hate (124)  </td><td>84              </td><td>40                </td></tr>\n",
       "<tr><td>pred nohate (211)</td><td>76              </td><td>135               </td></tr>\n",
       "</tbody>\n",
       "</table>"
      ],
      "text/plain": [
       "<IPython.core.display.HTML object>"
      ]
     },
     "metadata": {},
     "output_type": "display_data"
    },
    {
     "data": {
      "text/html": [
       "<table>\n",
       "<tbody>\n",
       "<tr><td>accuracy          </td><td>precision         </td><td>recall</td><td>f1_score          </td></tr>\n",
       "<tr><td>0.6537313432835821</td><td>0.6774193548387096</td><td>0.525 </td><td>0.5915492957746479</td></tr>\n",
       "</tbody>\n",
       "</table>"
      ],
      "text/plain": [
       "<IPython.core.display.HTML object>"
      ]
     },
     "metadata": {},
     "output_type": "display_data"
    },
    {
     "name": "stdout",
     "output_type": "stream",
     "text": [
      "contains all negations difference\n"
     ]
    },
    {
     "data": {
      "text/html": [
       "<table>\n",
       "<tbody>\n",
       "<tr><td>                 </td><td>label hate (287)</td><td>label nohate (383)</td></tr>\n",
       "<tr><td>pred hate (281)  </td><td>233             </td><td>48                </td></tr>\n",
       "<tr><td>pred nohate (389)</td><td>54              </td><td>335               </td></tr>\n",
       "</tbody>\n",
       "</table>"
      ],
      "text/plain": [
       "<IPython.core.display.HTML object>"
      ]
     },
     "metadata": {},
     "output_type": "display_data"
    },
    {
     "data": {
      "text/html": [
       "<table>\n",
       "<tbody>\n",
       "<tr><td>accuracy          </td><td>precision         </td><td>recall            </td><td>f1_score          </td></tr>\n",
       "<tr><td>0.8477611940298507</td><td>0.8291814946619217</td><td>0.8118466898954704</td><td>0.8204225352112676</td></tr>\n",
       "</tbody>\n",
       "</table>"
      ],
      "text/plain": [
       "<IPython.core.display.HTML object>"
      ]
     },
     "metadata": {},
     "output_type": "display_data"
    }
   ],
   "source": [
    "print('all')\n",
    "show_metrics(calc_metrics())\n",
    "print('contains all negations')\n",
    "show_metrics(calc_metrics(allNegations))\n",
    "print('contains all negations difference')\n",
    "show_metrics(calc_metric_difference(calc_metrics(allNegations)))"
   ]
  },
  {
   "cell_type": "code",
   "execution_count": null,
   "metadata": {},
   "outputs": [],
   "source": []
  }
 ],
 "metadata": {
  "kernelspec": {
   "display_name": "Python 3",
   "language": "python",
   "name": "python3"
  },
  "language_info": {
   "codemirror_mode": {
    "name": "ipython",
    "version": 3
   },
   "file_extension": ".py",
   "mimetype": "text/x-python",
   "name": "python",
   "nbconvert_exporter": "python",
   "pygments_lexer": "ipython3",
   "version": "3.7.6"
  }
 },
 "nbformat": 4,
 "nbformat_minor": 2
}
