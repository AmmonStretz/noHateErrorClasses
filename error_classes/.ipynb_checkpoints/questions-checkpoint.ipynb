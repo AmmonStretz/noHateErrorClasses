{
 "cells": [
  {
   "cell_type": "markdown",
   "metadata": {},
   "source": [
    "# Rethorische Fragen und Aussagen #\n",
    "\n",
    "Hypothese:\n",
    "Toxic Statements werden oft unter verwendung Verwendung von rethorischen Fragen und Aussagen angebracht. \n",
    "\n",
    "Grund für Beschäftigung:\n",
    "Challenges for Toxic Comment Classification: An In-Depth Error Analysis\n",
    "\n",
    "TODO: BSP"
   ]
  },
  {
   "cell_type": "code",
   "execution_count": 2,
   "metadata": {},
   "outputs": [],
   "source": [
    "%run ../config.ipynb\n",
    "%run ../lib/data_loader.ipynb\n",
    "%run ../lib/helper_functions.ipynb\n",
    "%run ../lib/metrics_generator.ipynb\n",
    "%run ../lib/table_generator.ipynb\n",
    "%run ../lib/diagram_generator.ipynb\n",
    "\n",
    "data = load_data('../data/predictions.json')"
   ]
  },
  {
   "cell_type": "code",
   "execution_count": 3,
   "metadata": {},
   "outputs": [],
   "source": [
    "question_words = ['wer', 'wie', 'was', 'wieso', 'warum', 'weshalb', 'wo', 'wohin', 'woher', 'wann', 'wen', 'wem', 'woran', 'worauf', 'wozu', 'weswegen']\n",
    "\n",
    "\n",
    "# als Teilwort\n",
    "def all(c):\n",
    "    return True\n",
    "def contains_question(element):\n",
    "    hasQW = False\n",
    "    for token in element['tokens']:\n",
    "        for question_word in question_words:\n",
    "            if question_word == token.text.lower():\n",
    "                hasQW = True\n",
    "        if token.pos_ == 'PUNCT' and token.text != ',':\n",
    "            if token.text == '?':\n",
    "                return True\n",
    "            hasQW = False\n",
    "    return False\n",
    "def contains_exclamation(element):\n",
    "    hasQW = False\n",
    "    for token in element['tokens']:\n",
    "        for question_word in question_words:\n",
    "            if question_word == token.text.lower():\n",
    "                hasQW = True\n",
    "        if token.pos_ == 'PUNCT' and token.text != ',':\n",
    "            if token.text == '!':\n",
    "                return True\n",
    "            hasQW = False\n",
    "    return False"
   ]
  },
  {
   "cell_type": "code",
   "execution_count": 4,
   "metadata": {},
   "outputs": [
    {
     "data": {
      "image/png": "[encoded data removed]",
      "text/plain": [
       "<Figure size 432x288 with 1 Axes>"
      ]
     },
     "metadata": {
      "needs_background": "light"
     },
     "output_type": "display_data"
    },
    {
     "data": {
      "image/png": "[encoded data removed]",
      "text/plain": [
       "<Figure size 432x288 with 1 Axes>"
      ]
     },
     "metadata": {
      "needs_background": "light"
     },
     "output_type": "display_data"
    }
   ],
   "source": [
    "diagram_filters = []\n",
    "# uppercaseFilters.append(('all',generate_filter(0, 2000, uppercaseWords)))\n",
    "# addFilterInterval(uppercaseFilters, 0, 10, 1, uppercaseWords)\n",
    "diagram_filters.append(('all', all))\n",
    "diagram_filters.append(('question', contains_question))\n",
    "diagram_filters.append(('exclamation', contains_exclamation))\n",
    "\n",
    "create_plt(name = \"absolute\", filters = diagram_filters, relative = False)\n",
    "create_plt(name = \"relative\", filters = diagram_filters, relative = True)\n",
    "# print('All')\n",
    "# showMetrics(calcMetrics(generate_filter(0, 2000, uppercaseWords)))\n",
    "# print('1-16')"
   ]
  },
  {
   "cell_type": "code",
   "execution_count": 5,
   "metadata": {},
   "outputs": [
    {
     "name": "stdout",
     "output_type": "stream",
     "text": [
      "all\n"
     ]
    },
    {
     "data": {
      "text/html": [
       "<table>\n",
       "<tbody>\n",
       "<tr><td>                 </td><td>label hate (245)</td><td>label nohate (425)</td></tr>\n",
       "<tr><td>pred hate (245)  </td><td>157             </td><td>88                </td></tr>\n",
       "<tr><td>pred nohate (425)</td><td>130             </td><td>295               </td></tr>\n",
       "</tbody>\n",
       "</table>"
      ],
      "text/plain": [
       "<IPython.core.display.HTML object>"
      ]
     },
     "metadata": {},
     "output_type": "display_data"
    },
    {
     "data": {
      "text/html": [
       "<table>\n",
       "<tbody>\n",
       "<tr><td>accuracy          </td><td>precision         </td><td>recall            </td><td>f1_score          </td></tr>\n",
       "<tr><td>0.6746268656716418</td><td>0.6408163265306123</td><td>0.5470383275261324</td><td>0.5902255639097745</td></tr>\n",
       "</tbody>\n",
       "</table>"
      ],
      "text/plain": [
       "<IPython.core.display.HTML object>"
      ]
     },
     "metadata": {},
     "output_type": "display_data"
    },
    {
     "name": "stdout",
     "output_type": "stream",
     "text": [
      "exclamation\n"
     ]
    },
    {
     "data": {
      "text/html": [
       "<table>\n",
       "<tbody>\n",
       "<tr><td>                </td><td>label hate (51)</td><td>label nohate (67)</td></tr>\n",
       "<tr><td>pred hate (51)  </td><td>39             </td><td>12               </td></tr>\n",
       "<tr><td>pred nohate (67)</td><td>18             </td><td>49               </td></tr>\n",
       "</tbody>\n",
       "</table>"
      ],
      "text/plain": [
       "<IPython.core.display.HTML object>"
      ]
     },
     "metadata": {},
     "output_type": "display_data"
    },
    {
     "data": {
      "text/html": [
       "<table>\n",
       "<tbody>\n",
       "<tr><td>accuracy          </td><td>precision         </td><td>recall            </td><td>f1_score          </td></tr>\n",
       "<tr><td>0.7457627118644068</td><td>0.7647058823529411</td><td>0.6842105263157895</td><td>0.7222222222222222</td></tr>\n",
       "</tbody>\n",
       "</table>"
      ],
      "text/plain": [
       "<IPython.core.display.HTML object>"
      ]
     },
     "metadata": {},
     "output_type": "display_data"
    },
    {
     "name": "stdout",
     "output_type": "stream",
     "text": [
      "exclamation change\n"
     ]
    },
    {
     "data": {
      "text/html": [
       "<table>\n",
       "<tbody>\n",
       "<tr><td>                 </td><td>label hate (245)</td><td>label nohate (425)</td></tr>\n",
       "<tr><td>pred hate (251)  </td><td>175             </td><td>76                </td></tr>\n",
       "<tr><td>pred nohate (419)</td><td>112             </td><td>307               </td></tr>\n",
       "</tbody>\n",
       "</table>"
      ],
      "text/plain": [
       "<IPython.core.display.HTML object>"
      ]
     },
     "metadata": {},
     "output_type": "display_data"
    },
    {
     "data": {
      "text/html": [
       "<table>\n",
       "<tbody>\n",
       "<tr><td>accuracy          </td><td>precision         </td><td>recall            </td><td>f1_score         </td></tr>\n",
       "<tr><td>0.7194029850746269</td><td>0.6972111553784861</td><td>0.6097560975609756</td><td>0.650557620817844</td></tr>\n",
       "</tbody>\n",
       "</table>"
      ],
      "text/plain": [
       "<IPython.core.display.HTML object>"
      ]
     },
     "metadata": {},
     "output_type": "display_data"
    }
   ],
   "source": [
    "print('all')\n",
    "show_metrics(calc_metrics())\n",
    "print('exclamation')\n",
    "show_metrics(calc_metrics(diagram_filters[2][1]))\n",
    "print('exclamation change')\n",
    "show_metrics(calc_metric_difference(calc_metrics(diagram_filters[2][1])))"
   ]
  },
  {
   "cell_type": "code",
   "execution_count": null,
   "metadata": {},
   "outputs": [],
   "source": []
  }
 ],
 "metadata": {
  "kernelspec": {
   "display_name": "Python 3",
   "language": "python",
   "name": "python3"
  },
  "language_info": {
   "codemirror_mode": {
    "name": "ipython",
    "version": 3
   },
   "file_extension": ".py",
   "mimetype": "text/x-python",
   "name": "python",
   "nbconvert_exporter": "python",
   "pygments_lexer": "ipython3",
   "version": "3.7.6"
  }
 },
 "nbformat": 4,
 "nbformat_minor": 2
}
