{
 "cells": [
  {
   "cell_type": "markdown",
   "metadata": {},
   "source": [
    "# Lesbarkeit #\n",
    "\n",
    "Hypothese: Sätze mit weniger als fünf Wörtern haben höhere Wahrscheinlichkeit falsch klassifiziert zu werden, da sie zu wenige Anhaltspunkte liefern.\n",
    "\n",
    "Grund: Detecting context abusiveness using hierarchical deep learning"
   ]
  },
  {
   "cell_type": "code",
   "execution_count": 23,
   "metadata": {},
   "outputs": [],
   "source": [
    "%run ../config.ipynb\n",
    "%run ../lib/data_loader.ipynb\n",
    "%run ../lib/helper_functions.ipynb\n",
    "%run ../lib/metrics_generator.ipynb\n",
    "%run ../lib/table_generator.ipynb\n",
    "%run ../lib/diagram_generator.ipynb\n",
    "\n",
    "data = load_data('../data/predictions.json')"
   ]
  },
  {
   "cell_type": "code",
   "execution_count": 30,
   "metadata": {},
   "outputs": [
    {
     "name": "stdout",
     "output_type": "stream",
     "text": [
      "-2.09\n"
     ]
    }
   ],
   "source": [
    "from spacy_readability import Readability\n",
    "#nlp.add_pipe(Readability())\n",
    "\n",
    "# doc._.flesch_kincaid_grade_level\n",
    "# doc._.flesch_kincaid_reading_ease\n",
    "# doc._.dale_chall\n",
    "print(nlp('text')._.automated_readability_index)\n",
    "\n",
    "\n",
    "start = 0\n",
    "stop = 20\n",
    "step = 4\n",
    "def all(c):\n",
    "    return True\n",
    "# the filter of the table\n",
    "def lexical_diversity(text):\n",
    "    return len(set(text)) / len(text)  * 100\n",
    "def textlength(element):\n",
    "    doc = nlp(element['text'])\n",
    "    index = doc._.automated_readability_index\n",
    "    return index\n",
    "pfilters = []\n",
    "pfilters.append(('all', all))\n",
    "\n",
    "def generate_filter(fr, to):\n",
    "    def f(element):\n",
    "        ld = textlength(element)\n",
    "        if ld >= fr and ld < to:\n",
    "            return True\n",
    "        return False\n",
    "    return f\n",
    "\n",
    "for i in range(start, stop, step):\n",
    "    pfilters.append(('%s-%s' % (i, (i+step)),generate_filter(i, i+step)))\n",
    "\n"
   ]
  },
  {
   "cell_type": "code",
   "execution_count": 31,
   "metadata": {},
   "outputs": [
    {
     "data": {
      "image/png": "[encoded data removed]",
      "text/plain": [
       "<Figure size 432x288 with 1 Axes>"
      ]
     },
     "metadata": {
      "needs_background": "light"
     },
     "output_type": "display_data"
    },
    {
     "data": {
      "image/png": "[encoded data removed]",
      "text/plain": [
       "<Figure size 432x288 with 1 Axes>"
      ]
     },
     "metadata": {
      "needs_background": "light"
     },
     "output_type": "display_data"
    }
   ],
   "source": [
    "#name, filters, relative\n",
    "create_plt(name = \"Test1 absolute\", filters = pfilters, relative = False)\n",
    "create_plt(name = \"Test1 relative\", filters = pfilters, relative = True)\n"
   ]
  },
  {
   "cell_type": "code",
   "execution_count": null,
   "metadata": {},
   "outputs": [],
   "source": [
    "print('All')\n",
    "show_metrics(calc_metrics())\n",
    "print('readability: 3')\n",
    "show_metrics(calc_metrics(generate_filter(8, 20)))\n",
    "print('readability: 3 difference')\n",
    "show_metrics(calc_metric_difference(calc_metrics(generate_filter(8, 20))))"
   ]
  }
 ],
 "metadata": {
  "kernelspec": {
   "display_name": "Python 3",
   "language": "python",
   "name": "python3"
  },
  "language_info": {
   "codemirror_mode": {
    "name": "ipython",
    "version": 3
   },
   "file_extension": ".py",
   "mimetype": "text/x-python",
   "name": "python",
   "nbconvert_exporter": "python",
   "pygments_lexer": "ipython3",
   "version": "3.7.6"
  }
 },
 "nbformat": 4,
 "nbformat_minor": 2
}
