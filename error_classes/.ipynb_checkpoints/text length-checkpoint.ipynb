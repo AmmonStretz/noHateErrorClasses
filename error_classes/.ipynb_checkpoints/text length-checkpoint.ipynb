{
 "cells": [
  {
   "cell_type": "markdown",
   "metadata": {},
   "source": [
    "# Textlength #\n",
    "\n",
    "“The meaning of a comment with less than 5 words are harder to understand, compared to longer comments”\n",
    "\n",
    "Reason: “From the type-1, we can see that our model is confused in understanding the meaning of short sentences of less than five words. It is hard for our model to understand the context of short sentences, since these are few words that does not contain abusive words.“ (Detecting context abusiveness using hierarchical deep learning”, Lee et al. 2019)\n",
    "\n",
    "#### Example ####\n",
    "\n",
    "ID: 409\n",
    "Label: True\n",
    "Prediction: False\n",
    "Confidence: 0.789294\n",
    "Comment: völlig Weltfremd sind die Verantwortlichen"
   ]
  },
  {
   "cell_type": "code",
   "execution_count": 1,
   "metadata": {},
   "outputs": [],
   "source": [
    "%run ../config.ipynb\n",
    "%run ../lib/data_loader.ipynb\n",
    "%run ../lib/helper_functions.ipynb\n",
    "%run ../lib/diagram_generator.ipynb\n",
    "%run ../lib/metrics_generator.ipynb\n",
    "%run ../lib/table_generator.ipynb\n",
    "\n",
    "data = load_data('../data/predictions.json')"
   ]
  },
  {
   "cell_type": "code",
   "execution_count": 15,
   "metadata": {},
   "outputs": [],
   "source": [
    "start = 0\n",
    "stop = 100\n",
    "step = 5\n",
    "def all(c):\n",
    "    return True\n",
    "# the filter of the table\n",
    "def lexical_diversity(text):\n",
    "    return len(set(text)) / len(text)  * 100\n",
    "def text_length(element):\n",
    "    return len(element['text'])\n",
    "def number_of_tokens(element):\n",
    "    return len(element['tokens'])\n",
    "\n",
    "def generate_filter(fr, to, function):\n",
    "    def f(element):\n",
    "        ld = function(element)\n",
    "        if ld >= fr and ld < to:\n",
    "            return True\n",
    "        return False\n",
    "    return f\n",
    "\n",
    "def greater_then(el):\n",
    "    return len(el['text'])>400\n"
   ]
  },
  {
   "cell_type": "code",
   "execution_count": 17,
   "metadata": {},
   "outputs": [
    {
     "data": {
      "image/png": "[encoded data removed]",
      "text/plain": [
       "<Figure size 432x288 with 1 Axes>"
      ]
     },
     "metadata": {
      "needs_background": "light"
     },
     "output_type": "display_data"
    },
    {
     "data": {
      "image/png": "[encoded data removed]",
      "text/plain": [
       "<Figure size 432x288 with 1 Axes>"
      ]
     },
     "metadata": {
      "needs_background": "light"
     },
     "output_type": "display_data"
    }
   ],
   "source": [
    "diagram_filters = []\n",
    "diagram_filters.append(('all', all))\n",
    "for i in range(start, stop, step):\n",
    "    diagram_filters.append(('%s-%s' % (i, (i+step)),generate_filter(i, i+step, number_of_tokens)))\n",
    "#diagram_filters.append(('400>', greater_then))\n",
    "\n",
    "#name, filters, relative\n",
    "create_plt(name = \"absolute\", filters = diagram_filters[1:], relative = False)\n",
    "create_plt(name = \"relative\", filters = diagram_filters, relative = True)"
   ]
  },
  {
   "cell_type": "code",
   "execution_count": 20,
   "metadata": {},
   "outputs": [
    {
     "name": "stdout",
     "output_type": "stream",
     "text": [
      "All\n"
     ]
    },
    {
     "data": {
      "text/html": [
       "<table>\n",
       "<tbody>\n",
       "<tr><td>                 </td><td>label hate (287)</td><td>label nohate (383)</td></tr>\n",
       "<tr><td>pred hate (245)  </td><td>157             </td><td>88                </td></tr>\n",
       "<tr><td>pred nohate (425)</td><td>130             </td><td>295               </td></tr>\n",
       "</tbody>\n",
       "</table>"
      ],
      "text/plain": [
       "<IPython.core.display.HTML object>"
      ]
     },
     "metadata": {},
     "output_type": "display_data"
    },
    {
     "data": {
      "text/html": [
       "<table>\n",
       "<tbody>\n",
       "<tr><td>accuracy          </td><td>precision         </td><td>recall            </td><td>f1_score          </td></tr>\n",
       "<tr><td>0.6746268656716418</td><td>0.6408163265306123</td><td>0.5470383275261324</td><td>0.5902255639097745</td></tr>\n",
       "</tbody>\n",
       "</table>"
      ],
      "text/plain": [
       "<IPython.core.display.HTML object>"
      ]
     },
     "metadata": {},
     "output_type": "display_data"
    },
    {
     "name": "stdout",
     "output_type": "stream",
     "text": [
      "0-5\n"
     ]
    },
    {
     "data": {
      "text/html": [
       "<table>\n",
       "<tbody>\n",
       "<tr><td>               </td><td>label hate (1)</td><td>label nohate (3)</td></tr>\n",
       "<tr><td>pred hate (2)  </td><td>1             </td><td>1               </td></tr>\n",
       "<tr><td>pred nohate (2)</td><td>0             </td><td>2               </td></tr>\n",
       "</tbody>\n",
       "</table>"
      ],
      "text/plain": [
       "<IPython.core.display.HTML object>"
      ]
     },
     "metadata": {},
     "output_type": "display_data"
    },
    {
     "data": {
      "text/html": [
       "<table>\n",
       "<tbody>\n",
       "<tr><td>accuracy</td><td>precision</td><td>recall</td><td>f1_score          </td></tr>\n",
       "<tr><td>0.75    </td><td>0.5      </td><td>1.0   </td><td>0.6666666666666666</td></tr>\n",
       "</tbody>\n",
       "</table>"
      ],
      "text/plain": [
       "<IPython.core.display.HTML object>"
      ]
     },
     "metadata": {},
     "output_type": "display_data"
    },
    {
     "name": "stdout",
     "output_type": "stream",
     "text": [
      "0-5\n"
     ]
    },
    {
     "data": {
      "text/html": [
       "<table>\n",
       "<tbody>\n",
       "<tr><td>                 </td><td>label hate (287)</td><td>label nohate (383)</td></tr>\n",
       "<tr><td>pred hate (244)  </td><td>157             </td><td>87                </td></tr>\n",
       "<tr><td>pred nohate (426)</td><td>130             </td><td>296               </td></tr>\n",
       "</tbody>\n",
       "</table>"
      ],
      "text/plain": [
       "<IPython.core.display.HTML object>"
      ]
     },
     "metadata": {},
     "output_type": "display_data"
    },
    {
     "data": {
      "text/html": [
       "<table>\n",
       "<tbody>\n",
       "<tr><td>accuracy          </td><td>precision         </td><td>recall            </td><td>f1_score         </td></tr>\n",
       "<tr><td>0.6761194029850747</td><td>0.6434426229508197</td><td>0.5470383275261324</td><td>0.591337099811676</td></tr>\n",
       "</tbody>\n",
       "</table>"
      ],
      "text/plain": [
       "<IPython.core.display.HTML object>"
      ]
     },
     "metadata": {},
     "output_type": "display_data"
    }
   ],
   "source": [
    "print('All')\n",
    "show_metrics(calc_metrics(diagram_filters[0][1]))\n",
    "print('0-5')\n",
    "show_metrics(calc_metrics(diagram_filters[1][1]))\n",
    "print('0-5')\n",
    "show_metrics(calc_metric_difference(calc_metrics(diagram_filters[1][1])))"
   ]
  }
 ],
 "metadata": {
  "kernelspec": {
   "display_name": "Python 3",
   "language": "python",
   "name": "python3"
  },
  "language_info": {
   "codemirror_mode": {
    "name": "ipython",
    "version": 3
   },
   "file_extension": ".py",
   "mimetype": "text/x-python",
   "name": "python",
   "nbconvert_exporter": "python",
   "pygments_lexer": "ipython3",
   "version": "3.7.6"
  }
 },
 "nbformat": 4,
 "nbformat_minor": 2
}
