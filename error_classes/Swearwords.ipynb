{
 "cells": [
  {
   "cell_type": "markdown",
   "metadata": {},
   "source": [
    "# Schimpfwörter #\n",
    "\n",
    "Hypothese:\n",
    "Schimpfwörter werden fehlinterpretiert wenn sie durch Sonderzeichen verschleiert werden.\n",
    "\n",
    "Grund: Statische Analyse"
   ]
  },
  {
   "cell_type": "code",
   "execution_count": 16,
   "metadata": {},
   "outputs": [],
   "source": [
    "%run ../config.ipynb\n",
    "%run ../lib/data_loader.ipynb\n",
    "%run ../lib/helper_functions.ipynb\n",
    "%run ../lib/diagram_generator.ipynb\n",
    "%run ../lib/metrics_generator.ipynb\n",
    "%run ../lib/table_generator.ipynb\n",
    "\n",
    "data = load_data('../data/predictions.json')\n",
    "import csv\n",
    "import re"
   ]
  },
  {
   "cell_type": "code",
   "execution_count": 17,
   "metadata": {},
   "outputs": [],
   "source": [
    "#Swear_Word_Deutsch.csv\n",
    "ger_swear_words = []\n",
    "with open('../data/Swear_Word_Deutsch.csv', encoding=\"utf8\") as csvfile:\n",
    "    reader = csv.DictReader(csvfile)\n",
    "    for row in reader:\n",
    "        ger_swear_words.append(row['Swear Word'])\n",
    "# als Teilwort\n",
    "def all(c):\n",
    "    return True\n",
    "def last_is_swearword(element):\n",
    "    for ger_swear_word in ger_swear_words:\n",
    "        sw = nlp(ger_swear_word)[0].lemma_\n",
    "        for token in element['tokens']:\n",
    "            if token.lemma_ == sw:\n",
    "                return True\n",
    "    return False\n",
    "                \n",
    "            \n",
    "    return True\n",
    "    hasQW = False\n",
    "    for token in element['tokens']:\n",
    "        for question_word in question_words:\n",
    "            if question_word == token.text.lower():\n",
    "                hasQW = True\n",
    "        if token.pos_ == 'PUNCT' and token.text != ',':\n",
    "            if token.text == '?':\n",
    "                return True\n",
    "            hasQW = False\n",
    "    return False\n",
    "def contains_no_swear_word(element):\n",
    "    for ger_swear_word in ger_swear_words:\n",
    "        if element['text'].lower().find(ger_swear_word.lower()) > 0:\n",
    "            return False\n",
    "    return True\n",
    "def contains_swear_word(element):\n",
    "    for ger_swear_word in ger_swear_words:\n",
    "        if element['text'].lower().find(ger_swear_word.lower()) > 0:\n",
    "            return True\n",
    "    return False"
   ]
  },
  {
   "cell_type": "code",
   "execution_count": 18,
   "metadata": {},
   "outputs": [
    {
     "data": {
      "image/png": "[encoded data removed]",
      "text/plain": [
       "<Figure size 432x288 with 1 Axes>"
      ]
     },
     "metadata": {
      "needs_background": "light"
     },
     "output_type": "display_data"
    },
    {
     "data": {
      "image/png": "[encoded data removed]",
      "text/plain": [
       "<Figure size 432x288 with 1 Axes>"
      ]
     },
     "metadata": {
      "needs_background": "light"
     },
     "output_type": "display_data"
    }
   ],
   "source": [
    "diagram_filters = []\n",
    "diagram_filters.append(('all', all))\n",
    "diagram_filters.append(('no german sw',contains_no_swear_word))\n",
    "diagram_filters.append(('german sw',contains_swear_word))\n",
    "#diagram_filters.append(('lemma sw',contains_question))\n",
    "\n",
    "#name, filters, relative\n",
    "create_plt(name = \"absolute\", filters = diagram_filters, relative = False)\n",
    "create_plt(name = \"relative\", filters = diagram_filters, relative = True)"
   ]
  },
  {
   "cell_type": "code",
   "execution_count": 19,
   "metadata": {},
   "outputs": [
    {
     "name": "stdout",
     "output_type": "stream",
     "text": [
      "all\n"
     ]
    },
    {
     "data": {
      "text/html": [
       "<table>\n",
       "<tbody>\n",
       "<tr><td>                 </td><td>label hate (287)</td><td>label nohate (383)</td></tr>\n",
       "<tr><td>pred hate (245)  </td><td>157             </td><td>88                </td></tr>\n",
       "<tr><td>pred nohate (425)</td><td>130             </td><td>295               </td></tr>\n",
       "</tbody>\n",
       "</table>"
      ],
      "text/plain": [
       "<IPython.core.display.HTML object>"
      ]
     },
     "metadata": {},
     "output_type": "display_data"
    },
    {
     "data": {
      "text/html": [
       "<table>\n",
       "<tbody>\n",
       "<tr><td>accuracy          </td><td>precision         </td><td>recall            </td><td>f1_score          </td></tr>\n",
       "<tr><td>0.6746268656716418</td><td>0.6408163265306123</td><td>0.5470383275261324</td><td>0.5902255639097745</td></tr>\n",
       "</tbody>\n",
       "</table>"
      ],
      "text/plain": [
       "<IPython.core.display.HTML object>"
      ]
     },
     "metadata": {},
     "output_type": "display_data"
    },
    {
     "name": "stdout",
     "output_type": "stream",
     "text": [
      "nicht Schimpfwort Deutsch\n"
     ]
    },
    {
     "data": {
      "text/html": [
       "<table>\n",
       "<tbody>\n",
       "<tr><td>                </td><td>label hate (14)</td><td>label nohate (39)</td></tr>\n",
       "<tr><td>pred hate (14)  </td><td>7              </td><td>7                </td></tr>\n",
       "<tr><td>pred nohate (39)</td><td>7              </td><td>32               </td></tr>\n",
       "</tbody>\n",
       "</table>"
      ],
      "text/plain": [
       "<IPython.core.display.HTML object>"
      ]
     },
     "metadata": {},
     "output_type": "display_data"
    },
    {
     "data": {
      "text/html": [
       "<table>\n",
       "<tbody>\n",
       "<tr><td>accuracy          </td><td>precision</td><td>recall</td><td>f1_score</td></tr>\n",
       "<tr><td>0.7358490566037735</td><td>0.5      </td><td>0.5   </td><td>0.5     </td></tr>\n",
       "</tbody>\n",
       "</table>"
      ],
      "text/plain": [
       "<IPython.core.display.HTML object>"
      ]
     },
     "metadata": {},
     "output_type": "display_data"
    },
    {
     "data": {
      "text/html": [
       "<table>\n",
       "<tbody>\n",
       "<tr><td>                 </td><td>label hate (287)</td><td>label nohate (383)</td></tr>\n",
       "<tr><td>pred hate (245)  </td><td>164             </td><td>81                </td></tr>\n",
       "<tr><td>pred nohate (425)</td><td>123             </td><td>302               </td></tr>\n",
       "</tbody>\n",
       "</table>"
      ],
      "text/plain": [
       "<IPython.core.display.HTML object>"
      ]
     },
     "metadata": {},
     "output_type": "display_data"
    },
    {
     "data": {
      "text/html": [
       "<table>\n",
       "<tbody>\n",
       "<tr><td>accuracy          </td><td>precision         </td><td>recall            </td><td>f1_score          </td></tr>\n",
       "<tr><td>0.6955223880597015</td><td>0.6693877551020408</td><td>0.5714285714285714</td><td>0.6165413533834586</td></tr>\n",
       "</tbody>\n",
       "</table>"
      ],
      "text/plain": [
       "<IPython.core.display.HTML object>"
      ]
     },
     "metadata": {},
     "output_type": "display_data"
    }
   ],
   "source": [
    "print('all')\n",
    "show_metrics(calc_metrics())\n",
    "print('nicht Schimpfwort Deutsch')\n",
    "show_metrics(calc_metrics(diagram_filters[1][1]))\n",
    "show_metrics(calc_metric_difference(calc_metrics(diagram_filters[1][1])))"
   ]
  },
  {
   "cell_type": "code",
   "execution_count": null,
   "metadata": {},
   "outputs": [],
   "source": []
  }
 ],
 "metadata": {
  "kernelspec": {
   "display_name": "Python 3",
   "language": "python",
   "name": "python3"
  }
 },
 "nbformat": 4,
 "nbformat_minor": 2
}
