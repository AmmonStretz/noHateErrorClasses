{
 "cells": [
  {
   "cell_type": "markdown",
   "metadata": {},
   "source": [
    "# Multi word phrases #\n",
    "\n",
    "Hypothesis: “Using multiple words together can drastically change the meaning of the individual words”\n",
    "\n",
    "Reason: “We see many occurrences of multi-word phrases in both datasets. Our algorithms can detect their toxicity only if they can recognize multiple words as a single (typical) hateful phrase.” (Challenges for Toxic Comment Classification: An In-Depth Error Analysis, van Aken et al. 2018)\n",
    "\n",
    "#### Examples ####\n",
    "\n",
    "ID: 96\n",
    "Label: True\n",
    "Prediction: False\n",
    "Confidence: 0.82492995\n",
    "Comment: Das CDU-SPD-Regime in Dresden verschwindet wie ein Furz im Wind. \n",
    "\n",
    "ID: 350\n",
    "Label: True\n",
    "Prediction: False\n",
    "Confidence: 0.5023966\n",
    "Comment: MESSER-MOSLEMS, BEI IHREM AMOK-LAUF, HALTEN WEDER DUMME KUH, NOCH ESEL AUF! Traumjob der islamischen Invasoren: Halsabschneider äh Herrenfrisör, mal wird der verliebten Chefin u. Frisörmeisterin die Kehle gemessert, mal einem deutschen Mulatten.\n",
    "\n",
    "ID: 661\n",
    "Label: True\n",
    "Prediction: False\n",
    "Confidence: 0.50556785\n",
    "Comment: Zwar hatte ich an eine ganz, ganz andere Aufteilung gedacht, West-Berlin und NRW sowie einige andere Teile der alten BRD für die anti-deutschen, anti-europäischen Multi-Kulti-Gender-Massenüberfremdungs-Fanatiker und ihre Goldstücke und die mitteldeutschen Bundesländer sowie Bayern und Schleswig-Holstein sowie die Hälfte von Baden Württemberg und Hessen für uns, die patriotischen Deutschen,"
   ]
  },
  {
   "cell_type": "code",
   "execution_count": 59,
   "metadata": {},
   "outputs": [],
   "source": [
    "%run ../config.ipynb\n",
    "%run ../lib/data_loader.ipynb\n",
    "%run ../lib/helper_functions.ipynb\n",
    "%run ../lib/diagram_generator.ipynb\n",
    "%run ../lib/metrics_generator.ipynb\n",
    "%run ../lib/table_generator.ipynb\n",
    "\n",
    "data = load_data('../data/predictions.json')\n",
    "import csv\n",
    "import re"
   ]
  },
  {
   "cell_type": "code",
   "execution_count": 61,
   "metadata": {},
   "outputs": [],
   "source": [
    "def all(c):\n",
    "    return True\n",
    "def find_regex_filter(regexp):\n",
    "    def f(element):\n",
    "        return regexp.search(element['text'])\n",
    "    return f\n",
    "def numberOfPUNCTs(s, e):\n",
    "    def f(el):\n",
    "        n = 0\n",
    "        for token in el['tokens']:\n",
    "            if token.pos_ == 'PUNCT':\n",
    "                n += 1\n",
    "        return n >= s and n<e\n",
    "    return f\n",
    "    \n",
    "def find_filter(contains):\n",
    "    def f(element):\n",
    "        return element['text'].lower().find(contains) > 0\n",
    "    return f\n"
   ]
  },
  {
   "cell_type": "code",
   "execution_count": 62,
   "metadata": {},
   "outputs": [],
   "source": [
    "#show_data(find_regex_filter(re.compile('\\w\\-\\w')))"
   ]
  },
  {
   "cell_type": "code",
   "execution_count": 63,
   "metadata": {
    "scrolled": true
   },
   "outputs": [
    {
     "data": {
      "image/png": "[encoded data removed]",
      "text/plain": [
       "<Figure size 432x288 with 1 Axes>"
      ]
     },
     "metadata": {
      "needs_background": "light"
     },
     "output_type": "display_data"
    },
    {
     "data": {
      "image/png": "[encoded data removed]",
      "text/plain": [
       "<Figure size 432x288 with 1 Axes>"
      ]
     },
     "metadata": {
      "needs_background": "light"
     },
     "output_type": "display_data"
    }
   ],
   "source": [
    "diagram_filters = []\n",
    "diagram_filters.append(('all', all))\n",
    "diagram_filters.append(('*',find_regex_filter(re.compile('.[\\*]'))))\n",
    "diagram_filters.append(('-',find_regex_filter(re.compile('\\w\\-\\w'))))\n",
    "diagram_filters.append(('!!!',find_regex_filter(re.compile(r'.[\\!]'))))\n",
    "diagram_filters.append(('???',find_regex_filter(re.compile(r'\\?'))))\n",
    "diagram_filters.append(('..',find_regex_filter(re.compile(r'.\\.\\.'))))\n",
    "#diagram_filters.append(('0-5',numberOfPUNCTs(0,5)))\n",
    "#diagram_filters.append(('5-10',numberOfPUNCTs(5,10)))\n",
    "#diagram_filters.append(('10-15',numberOfPUNCTs(10,15)))\n",
    "#diagram_filters.append(('>15',numberOfPUNCTs(15,2000)))\n",
    "\n",
    "#name, filters, relative\n",
    "create_plt(name = \"absolute\", filters = diagram_filters, relative = False)\n",
    "create_plt(name = \"relative\", filters = diagram_filters, relative = True)"
   ]
  },
  {
   "cell_type": "code",
   "execution_count": 64,
   "metadata": {},
   "outputs": [
    {
     "name": "stdout",
     "output_type": "stream",
     "text": [
      "all\n"
     ]
    },
    {
     "data": {
      "text/html": [
       "<table>\n",
       "<tbody>\n",
       "<tr><td>                 </td><td>label hate (287)</td><td>label nohate (383)</td></tr>\n",
       "<tr><td>pred hate (245)  </td><td>157             </td><td>88                </td></tr>\n",
       "<tr><td>pred nohate (425)</td><td>130             </td><td>295               </td></tr>\n",
       "</tbody>\n",
       "</table>"
      ],
      "text/plain": [
       "<IPython.core.display.HTML object>"
      ]
     },
     "metadata": {},
     "output_type": "display_data"
    },
    {
     "data": {
      "text/html": [
       "<table>\n",
       "<tbody>\n",
       "<tr><td>accuracy          </td><td>precision         </td><td>recall            </td><td>f1_score          </td></tr>\n",
       "<tr><td>0.6746268656716418</td><td>0.6408163265306123</td><td>0.5470383275261324</td><td>0.5902255639097745</td></tr>\n",
       "</tbody>\n",
       "</table>"
      ],
      "text/plain": [
       "<IPython.core.display.HTML object>"
      ]
     },
     "metadata": {},
     "output_type": "display_data"
    }
   ],
   "source": [
    "print('all')\n",
    "show_metrics(calc_metrics())"
   ]
  },
  {
   "cell_type": "code",
   "execution_count": 65,
   "metadata": {},
   "outputs": [
    {
     "name": "stdout",
     "output_type": "stream",
     "text": [
      "contains \"-\"\n"
     ]
    },
    {
     "data": {
      "text/html": [
       "<table>\n",
       "<tbody>\n",
       "<tr><td>                </td><td>label hate (43)</td><td>label nohate (66)</td></tr>\n",
       "<tr><td>pred hate (38)  </td><td>20             </td><td>18               </td></tr>\n",
       "<tr><td>pred nohate (71)</td><td>23             </td><td>48               </td></tr>\n",
       "</tbody>\n",
       "</table>"
      ],
      "text/plain": [
       "<IPython.core.display.HTML object>"
      ]
     },
     "metadata": {},
     "output_type": "display_data"
    },
    {
     "data": {
      "text/html": [
       "<table>\n",
       "<tbody>\n",
       "<tr><td>accuracy          </td><td>precision         </td><td>recall             </td><td>f1_score           </td></tr>\n",
       "<tr><td>0.6238532110091743</td><td>0.5263157894736842</td><td>0.46511627906976744</td><td>0.49382716049382713</td></tr>\n",
       "</tbody>\n",
       "</table>"
      ],
      "text/plain": [
       "<IPython.core.display.HTML object>"
      ]
     },
     "metadata": {},
     "output_type": "display_data"
    }
   ],
   "source": [
    "print('contains \"-\"')\n",
    "show_metrics(calc_metrics(diagram_filters[2][1]))"
   ]
  },
  {
   "cell_type": "code",
   "execution_count": 66,
   "metadata": {},
   "outputs": [
    {
     "name": "stdout",
     "output_type": "stream",
     "text": [
      "contains \"-\" difference\n"
     ]
    },
    {
     "data": {
      "text/html": [
       "<table>\n",
       "<tbody>\n",
       "<tr><td>                 </td><td>label hate (287)</td><td>label nohate (383)</td></tr>\n",
       "<tr><td>pred hate (250)  </td><td>180             </td><td>70                </td></tr>\n",
       "<tr><td>pred nohate (420)</td><td>107             </td><td>313               </td></tr>\n",
       "</tbody>\n",
       "</table>"
      ],
      "text/plain": [
       "<IPython.core.display.HTML object>"
      ]
     },
     "metadata": {},
     "output_type": "display_data"
    },
    {
     "data": {
      "text/html": [
       "<table>\n",
       "<tbody>\n",
       "<tr><td>accuracy         </td><td>precision</td><td>recall           </td><td>f1_score          </td></tr>\n",
       "<tr><td>0.735820895522388</td><td>0.72     </td><td>0.627177700348432</td><td>0.6703910614525139</td></tr>\n",
       "</tbody>\n",
       "</table>"
      ],
      "text/plain": [
       "<IPython.core.display.HTML object>"
      ]
     },
     "metadata": {},
     "output_type": "display_data"
    }
   ],
   "source": [
    "print('contains \"-\" difference')\n",
    "show_metrics(calc_metric_difference(calc_metrics(diagram_filters[2][1])))"
   ]
  },
  {
   "cell_type": "code",
   "execution_count": null,
   "metadata": {},
   "outputs": [],
   "source": []
  }
 ],
 "metadata": {
  "kernelspec": {
   "display_name": "Python 3",
   "language": "python",
   "name": "python3"
  },
  "language_info": {
   "codemirror_mode": {
    "name": "ipython",
    "version": 3
   },
   "file_extension": ".py",
   "mimetype": "text/x-python",
   "name": "python",
   "nbconvert_exporter": "python",
   "pygments_lexer": "ipython3",
   "version": "3.7.6"
  }
 },
 "nbformat": 4,
 "nbformat_minor": 2
}
