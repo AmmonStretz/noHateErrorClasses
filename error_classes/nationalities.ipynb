{
 "cells": [
  {
   "cell_type": "markdown",
   "metadata": {},
   "source": [
    "# Occurences of Nationalities #\n",
    "\n",
    "Hypothesis: \"The model reacts too sensitive to mentionings of nationalities, since it could be a generalization based on ethnicity\"\n",
    "\n",
    "Reason: Manual Analysis\n",
    "\n",
    "Soruce: Verzeichnis der Staatennamen für den amtlichen Gebrauch in der Bundesrepublik Deutschland (https://www.auswaertiges-amt.de/de/service/terminologie/-/215252)\n",
    "\n",
    "#### Example ####\n",
    "\n",
    "ID: 38\n",
    "Label: True\n",
    "Prediction: False\n",
    "Confidence: 0.9646481\n",
    "Comment: Was macht die Frau in Deutschland? Sich vor der Wehrpflicht zu drücken, begründet kein Asyl. Und Migranten kennt unser Asylrecht nicht. Also, was macht die Frau hier?\n",
    "\n",
    "ID: 106\n",
    "Label: True\n",
    "Prediction: False\n",
    "Confidence: 0.789294\n",
    "Comment: Ist doch so oder so nur wieder eine Beruhigungspille, für das gutgläubige deutsche Volk\n",
    "\n",
    "ID: 315\n",
    "Label: True\n",
    "Prediction: False\n",
    "Confidence: 0.51014405\n",
    "Comment: Der Bürgermeister von Boostedt hat mutig und eindrucksvoll beschrieben, wie furchtbar sich die afrikanischen Migranten, die keine Bleibeperspektive haben, verhalten und wie die Akzeptanz in der Bevölkerung schwindet"
   ]
  },
  {
   "cell_type": "code",
   "execution_count": 1,
   "metadata": {},
   "outputs": [],
   "source": [
    "%run ../config.ipynb\n",
    "%run ../lib/data_loader.ipynb\n",
    "%run ../lib/helper_functions.ipynb\n",
    "%run ../lib/diagram_generator.ipynb\n",
    "%run ../lib/metrics_generator.ipynb\n",
    "%run ../lib/table_generator.ipynb\n",
    "\n",
    "data = load_data('../data/predictions.json')"
   ]
  },
  {
   "cell_type": "code",
   "execution_count": 2,
   "metadata": {},
   "outputs": [],
   "source": [
    "import csv\n",
    "import requests\n",
    "import datetime\n",
    "import math\n",
    "\n",
    "requestData = []\n",
    "responseData = []\n",
    "output = []\n",
    "i = 0\n",
    "stepsize = 100\n",
    "maxLines = 670\n",
    "\n",
    "countries = []\n",
    "adjectives = []\n",
    "nationalities = []\n",
    "\n",
    "with open('../data/Nationalitäten.csv', encoding=\"utf8\") as csvfile:\n",
    "    reader = csv.DictReader(csvfile, delimiter=';')\n",
    "    for row in reader:\n",
    "        countries.append(row['country'])\n",
    "        if row['adjektiv'] != '---':\n",
    "            adjectives.append(row['adjektiv'])\n",
    "        if row['nationalityM'] != '---':\n",
    "            nationalities.append(row['nationalityM'])\n",
    "        if row['nationalityF'] != '---':\n",
    "            nationalities.append(row['nationalityF'])"
   ]
  },
  {
   "cell_type": "code",
   "execution_count": 3,
   "metadata": {},
   "outputs": [],
   "source": [
    "# als Teilwort\n",
    "def all(c):\n",
    "    return True\n",
    "def find_filter(contains):\n",
    "    def f(element):\n",
    "        return element['text'].lower().find(contains) > 0\n",
    "    return f\n",
    "def contains_adjective(element):\n",
    "    for adjective in adjectives:\n",
    "        if element['text'].lower().find(adjective) > 0:\n",
    "            return True\n",
    "    return False\n",
    "\n",
    "def contains_country(element):\n",
    "    for country in countries:\n",
    "        if element['text'].lower().find(country.lower()) > 0:\n",
    "            return True\n",
    "    return False\n",
    "\n",
    "def contains_nationality(element):\n",
    "    for nationality in nationalities:\n",
    "#         for token in element['tokens']:\n",
    "#             if token.lower() == nationality.lower():\n",
    "#                 return True\n",
    "        if element['text'].lower().find(nationality.lower()) > 0:\n",
    "            return True\n",
    "    return False\n",
    "def contains_adjective_without_deutsch(element):\n",
    "    for adjective in adjectives:\n",
    "        if element['text'].lower().find(adjective) > 0 and element['text'].lower().find('deutsch') == -1:\n",
    "            return True\n",
    "    return False"
   ]
  },
  {
   "cell_type": "code",
   "execution_count": 4,
   "metadata": {},
   "outputs": [
    {
     "data": {
      "image/png": "[encoded data removed]",
      "text/plain": [
       "<Figure size 432x288 with 1 Axes>"
      ]
     },
     "metadata": {
      "needs_background": "light"
     },
     "output_type": "display_data"
    },
    {
     "data": {
      "image/png": "[encoded data removed]",
      "text/plain": [
       "<Figure size 432x288 with 1 Axes>"
      ]
     },
     "metadata": {
      "needs_background": "light"
     },
     "output_type": "display_data"
    }
   ],
   "source": [
    "diagram_filters = []\n",
    "diagram_filters.append(('all', all))\n",
    "diagram_filters.append(('deutsch',find_filter('deutsch')))\n",
    "diagram_filters.append(('Adjektive',contains_adjective))\n",
    "diagram_filters.append(('Countries',contains_country))\n",
    "diagram_filters.append(('Nationality',contains_nationality))\n",
    "\n",
    "#name, filters, relative\n",
    "create_plt(name = \"absolute\", filters = diagram_filters, relative = False)\n",
    "create_plt(name = \"relative\", filters = diagram_filters, relative = True)"
   ]
  },
  {
   "cell_type": "code",
   "execution_count": 5,
   "metadata": {},
   "outputs": [
    {
     "name": "stdout",
     "output_type": "stream",
     "text": [
      "all\n"
     ]
    },
    {
     "data": {
      "text/html": [
       "<table>\n",
       "<tbody>\n",
       "<tr><td>                 </td><td>label hate (287)</td><td>label nohate (383)</td></tr>\n",
       "<tr><td>pred hate (245)  </td><td>157             </td><td>88                </td></tr>\n",
       "<tr><td>pred nohate (425)</td><td>130             </td><td>295               </td></tr>\n",
       "</tbody>\n",
       "</table>"
      ],
      "text/plain": [
       "<IPython.core.display.HTML object>"
      ]
     },
     "metadata": {},
     "output_type": "display_data"
    },
    {
     "data": {
      "text/html": [
       "<table>\n",
       "<tbody>\n",
       "<tr><td>accuracy          </td><td>precision         </td><td>recall            </td><td>f1_score          </td></tr>\n",
       "<tr><td>0.6746268656716418</td><td>0.6408163265306123</td><td>0.5470383275261324</td><td>0.5902255639097745</td></tr>\n",
       "</tbody>\n",
       "</table>"
      ],
      "text/plain": [
       "<IPython.core.display.HTML object>"
      ]
     },
     "metadata": {},
     "output_type": "display_data"
    },
    {
     "name": "stdout",
     "output_type": "stream",
     "text": [
      "Nationality\n"
     ]
    },
    {
     "data": {
      "text/html": [
       "<table>\n",
       "<tbody>\n",
       "<tr><td>                </td><td>label hate (90)</td><td>label nohate (72)</td></tr>\n",
       "<tr><td>pred hate (74)  </td><td>51             </td><td>23               </td></tr>\n",
       "<tr><td>pred nohate (88)</td><td>39             </td><td>49               </td></tr>\n",
       "</tbody>\n",
       "</table>"
      ],
      "text/plain": [
       "<IPython.core.display.HTML object>"
      ]
     },
     "metadata": {},
     "output_type": "display_data"
    },
    {
     "data": {
      "text/html": [
       "<table>\n",
       "<tbody>\n",
       "<tr><td>accuracy          </td><td>precision         </td><td>recall            </td><td>f1_score         </td></tr>\n",
       "<tr><td>0.6172839506172839</td><td>0.6891891891891891</td><td>0.5666666666666667</td><td>0.621951219512195</td></tr>\n",
       "</tbody>\n",
       "</table>"
      ],
      "text/plain": [
       "<IPython.core.display.HTML object>"
      ]
     },
     "metadata": {},
     "output_type": "display_data"
    },
    {
     "name": "stdout",
     "output_type": "stream",
     "text": [
      "Nationality change\n"
     ]
    },
    {
     "data": {
      "text/html": [
       "<table>\n",
       "<tbody>\n",
       "<tr><td>                 </td><td>label hate (287)</td><td>label nohate (383)</td></tr>\n",
       "<tr><td>pred hate (261)  </td><td>196             </td><td>65                </td></tr>\n",
       "<tr><td>pred nohate (409)</td><td>91              </td><td>318               </td></tr>\n",
       "</tbody>\n",
       "</table>"
      ],
      "text/plain": [
       "<IPython.core.display.HTML object>"
      ]
     },
     "metadata": {},
     "output_type": "display_data"
    },
    {
     "data": {
      "text/html": [
       "<table>\n",
       "<tbody>\n",
       "<tr><td>accuracy          </td><td>precision         </td><td>recall            </td><td>f1_score          </td></tr>\n",
       "<tr><td>0.7671641791044777</td><td>0.7509578544061303</td><td>0.6829268292682927</td><td>0.7153284671532847</td></tr>\n",
       "</tbody>\n",
       "</table>"
      ],
      "text/plain": [
       "<IPython.core.display.HTML object>"
      ]
     },
     "metadata": {},
     "output_type": "display_data"
    }
   ],
   "source": [
    "print('all')\n",
    "show_metrics(calc_metrics())\n",
    "print('Nationality')\n",
    "show_metrics(calc_metrics(diagram_filters[4][1]))\n",
    "print('Nationality change')\n",
    "show_metrics(calc_metric_difference(calc_metrics(diagram_filters[4][1])))"
   ]
  },
  {
   "cell_type": "code",
   "execution_count": null,
   "metadata": {},
   "outputs": [],
   "source": []
  }
 ],
 "metadata": {
  "kernelspec": {
   "display_name": "Python 3",
   "language": "python",
   "name": "python3"
  },
  "language_info": {
   "codemirror_mode": {
    "name": "ipython",
    "version": 3
   },
   "file_extension": ".py",
   "mimetype": "text/x-python",
   "name": "python",
   "nbconvert_exporter": "python",
   "pygments_lexer": "ipython3",
   "version": "3.7.6"
  }
 },
 "nbformat": 4,
 "nbformat_minor": 2
}
