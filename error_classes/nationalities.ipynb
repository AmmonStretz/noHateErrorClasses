{
 "cells": [
  {
   "cell_type": "markdown",
   "metadata": {},
   "source": [
    "# Nationalitäten #\n",
    "\n",
    "Hypothese:\n",
    "Die Verwendung von Nationalitäten führen zu Fehlern, weil diese als wertend interpretiert werden können.\n",
    "\n",
    "Grund für Beschäftigung:\n",
    "Quantitative Analyse\n",
    "\n",
    "TODO: BSP"
   ]
  },
  {
   "cell_type": "code",
   "execution_count": 1,
   "metadata": {},
   "outputs": [],
   "source": [
    "%run ../config.ipynb\n",
    "%run ../lib/data_loader.ipynb\n",
    "%run ../lib/helper_functions.ipynb\n",
    "%run ../lib/diagram_generator.ipynb\n",
    "%run ../lib/metrics_generator.ipynb\n",
    "%run ../lib/table_generator.ipynb\n",
    "\n",
    "data = load_data('../data/predictions.json')"
   ]
  },
  {
   "cell_type": "code",
   "execution_count": 2,
   "metadata": {},
   "outputs": [],
   "source": [
    "import csv\n",
    "import requests\n",
    "import datetime\n",
    "import math\n",
    "\n",
    "requestData = []\n",
    "responseData = []\n",
    "output = []\n",
    "i = 0\n",
    "stepsize = 100\n",
    "maxLines = 670\n",
    "\n",
    "countries = []\n",
    "adjectives = []\n",
    "nationalities = []\n",
    "\n",
    "with open('../data/Nationalitäten.csv', encoding=\"utf8\") as csvfile:\n",
    "    reader = csv.DictReader(csvfile, delimiter=';')\n",
    "    for row in reader:\n",
    "        countries.append(row['country'])\n",
    "        if row['adjektiv'] != '---':\n",
    "            adjectives.append(row['adjektiv'])\n",
    "        if row['nationalityM'] != '---':\n",
    "            nationalities.append(row['nationalityM'])\n",
    "        if row['nationalityF'] != '---':\n",
    "            nationalities.append(row['nationalityF'])"
   ]
  },
  {
   "cell_type": "code",
   "execution_count": 6,
   "metadata": {},
   "outputs": [],
   "source": [
    "# als Teilwort\n",
    "def all(c):\n",
    "    return True\n",
    "def find_filter(contains):\n",
    "    def f(element):\n",
    "        return element['text'].lower().find(contains) > 0\n",
    "    return f\n",
    "def contains_adjective(element):\n",
    "    for adjective in adjectives:\n",
    "#         for token in element['tokens']:\n",
    "#             if token.lower() == adjective.lower():\n",
    "#                 return True\n",
    "        if element['text'].lower().find(adjective) > 0:\n",
    "            return True\n",
    "    return False\n",
    "def contains_country(element):\n",
    "    for country in countries:\n",
    "        if element['text'].lower().find(country.lower()) > 0:\n",
    "            return True\n",
    "    return False\n",
    "def contains_nationality(element):\n",
    "    for nationality in nationalities:\n",
    "#         for token in element['tokens']:\n",
    "#             if token.lower() == nationality.lower():\n",
    "#                 return True\n",
    "        if element['text'].lower().find(nationality.lower()) > 0:\n",
    "            return True\n",
    "    return False\n",
    "def contains_adjective_without_deutsch(element):\n",
    "    for adjective in adjectives:\n",
    "        if element['text'].lower().find(adjective) > 0 and element['text'].lower().find('deutsch') == -1:\n",
    "            return True\n",
    "    return False"
   ]
  },
  {
   "cell_type": "code",
   "execution_count": 7,
   "metadata": {},
   "outputs": [
    {
     "data": {
      "image/png": "[encoded data removed]",
      "text/plain": [
       "<Figure size 432x288 with 1 Axes>"
      ]
     },
     "metadata": {
      "needs_background": "light"
     },
     "output_type": "display_data"
    },
    {
     "data": {
      "image/png": "[encoded data removed]",
      "text/plain": [
       "<Figure size 432x288 with 1 Axes>"
      ]
     },
     "metadata": {
      "needs_background": "light"
     },
     "output_type": "display_data"
    }
   ],
   "source": [
    "diagram_filters = []\n",
    "diagram_filters.append(('all', all))\n",
    "diagram_filters.append(('deutsch',find_filter('deutsch')))\n",
    "diagram_filters.append(('Adjektive',contains_adjective))\n",
    "diagram_filters.append(('Countries',contains_country))\n",
    "diagram_filters.append(('Nationality',contains_nationality))\n",
    "\n",
    "#name, filters, relative\n",
    "create_plt(name = \"Test1 absolute\", filters = diagram_filters, relative = False)\n",
    "create_plt(name = \"Test1 relative\", filters = diagram_filters, relative = True)"
   ]
  },
  {
   "cell_type": "code",
   "execution_count": 10,
   "metadata": {},
   "outputs": [
    {
     "name": "stdout",
     "output_type": "stream",
     "text": [
      "all\n"
     ]
    },
    {
     "data": {
      "text/html": [
       "<table>\n",
       "<tbody>\n",
       "<tr><td>                 </td><td>label hate (245)</td><td>label nohate (425)</td></tr>\n",
       "<tr><td>pred hate (245)  </td><td>157             </td><td>88                </td></tr>\n",
       "<tr><td>pred nohate (425)</td><td>130             </td><td>295               </td></tr>\n",
       "</tbody>\n",
       "</table>"
      ],
      "text/plain": [
       "<IPython.core.display.HTML object>"
      ]
     },
     "metadata": {},
     "output_type": "display_data"
    },
    {
     "data": {
      "text/html": [
       "<table>\n",
       "<tbody>\n",
       "<tr><td>accuracy          </td><td>precision         </td><td>recall            </td><td>f1_score          </td></tr>\n",
       "<tr><td>0.6746268656716418</td><td>0.6408163265306123</td><td>0.5470383275261324</td><td>0.5902255639097745</td></tr>\n",
       "</tbody>\n",
       "</table>"
      ],
      "text/plain": [
       "<IPython.core.display.HTML object>"
      ]
     },
     "metadata": {},
     "output_type": "display_data"
    },
    {
     "name": "stdout",
     "output_type": "stream",
     "text": [
      "\"deutsch\"\n"
     ]
    },
    {
     "data": {
      "text/html": [
       "<table>\n",
       "<tbody>\n",
       "<tr><td>                </td><td>label hate (60)</td><td>label nohate (83)</td></tr>\n",
       "<tr><td>pred hate (60)  </td><td>38             </td><td>22               </td></tr>\n",
       "<tr><td>pred nohate (83)</td><td>39             </td><td>44               </td></tr>\n",
       "</tbody>\n",
       "</table>"
      ],
      "text/plain": [
       "<IPython.core.display.HTML object>"
      ]
     },
     "metadata": {},
     "output_type": "display_data"
    },
    {
     "data": {
      "text/html": [
       "<table>\n",
       "<tbody>\n",
       "<tr><td>accuracy          </td><td>precision         </td><td>recall            </td><td>f1_score          </td></tr>\n",
       "<tr><td>0.5734265734265734</td><td>0.6333333333333333</td><td>0.4935064935064935</td><td>0.5547445255474452</td></tr>\n",
       "</tbody>\n",
       "</table>"
      ],
      "text/plain": [
       "<IPython.core.display.HTML object>"
      ]
     },
     "metadata": {},
     "output_type": "display_data"
    },
    {
     "name": "stdout",
     "output_type": "stream",
     "text": [
      "\"deutsch\" change\n"
     ]
    },
    {
     "data": {
      "text/html": [
       "<table>\n",
       "<tbody>\n",
       "<tr><td>                 </td><td>label hate (245)</td><td>label nohate (425)</td></tr>\n",
       "<tr><td>pred hate (262)  </td><td>196             </td><td>66                </td></tr>\n",
       "<tr><td>pred nohate (408)</td><td>91              </td><td>317               </td></tr>\n",
       "</tbody>\n",
       "</table>"
      ],
      "text/plain": [
       "<IPython.core.display.HTML object>"
      ]
     },
     "metadata": {},
     "output_type": "display_data"
    },
    {
     "data": {
      "text/html": [
       "<table>\n",
       "<tbody>\n",
       "<tr><td>accuracy          </td><td>precision         </td><td>recall            </td><td>f1_score          </td></tr>\n",
       "<tr><td>0.7656716417910447</td><td>0.7480916030534351</td><td>0.6829268292682927</td><td>0.7140255009107468</td></tr>\n",
       "</tbody>\n",
       "</table>"
      ],
      "text/plain": [
       "<IPython.core.display.HTML object>"
      ]
     },
     "metadata": {},
     "output_type": "display_data"
    },
    {
     "name": "stdout",
     "output_type": "stream",
     "text": [
      "Adjektive\n"
     ]
    },
    {
     "data": {
      "text/html": [
       "<table>\n",
       "<tbody>\n",
       "<tr><td>                </td><td>label hate (69)</td><td>label nohate (92)</td></tr>\n",
       "<tr><td>pred hate (69)  </td><td>44             </td><td>25               </td></tr>\n",
       "<tr><td>pred nohate (92)</td><td>40             </td><td>52               </td></tr>\n",
       "</tbody>\n",
       "</table>"
      ],
      "text/plain": [
       "<IPython.core.display.HTML object>"
      ]
     },
     "metadata": {},
     "output_type": "display_data"
    },
    {
     "data": {
      "text/html": [
       "<table>\n",
       "<tbody>\n",
       "<tr><td>accuracy          </td><td>precision         </td><td>recall            </td><td>f1_score          </td></tr>\n",
       "<tr><td>0.5962732919254659</td><td>0.6376811594202898</td><td>0.5238095238095238</td><td>0.5751633986928104</td></tr>\n",
       "</tbody>\n",
       "</table>"
      ],
      "text/plain": [
       "<IPython.core.display.HTML object>"
      ]
     },
     "metadata": {},
     "output_type": "display_data"
    },
    {
     "name": "stdout",
     "output_type": "stream",
     "text": [
      "Adjektive change\n"
     ]
    },
    {
     "data": {
      "text/html": [
       "<table>\n",
       "<tbody>\n",
       "<tr><td>                 </td><td>label hate (245)</td><td>label nohate (425)</td></tr>\n",
       "<tr><td>pred hate (260)  </td><td>197             </td><td>63                </td></tr>\n",
       "<tr><td>pred nohate (410)</td><td>90              </td><td>320               </td></tr>\n",
       "</tbody>\n",
       "</table>"
      ],
      "text/plain": [
       "<IPython.core.display.HTML object>"
      ]
     },
     "metadata": {},
     "output_type": "display_data"
    },
    {
     "data": {
      "text/html": [
       "<table>\n",
       "<tbody>\n",
       "<tr><td>accuracy          </td><td>precision         </td><td>recall           </td><td>f1_score         </td></tr>\n",
       "<tr><td>0.7716417910447761</td><td>0.7576923076923077</td><td>0.686411149825784</td><td>0.720292504570384</td></tr>\n",
       "</tbody>\n",
       "</table>"
      ],
      "text/plain": [
       "<IPython.core.display.HTML object>"
      ]
     },
     "metadata": {},
     "output_type": "display_data"
    }
   ],
   "source": [
    "print('all')\n",
    "show_metrics(calc_metrics())\n",
    "print('\"deutsch\"')\n",
    "show_metrics(calc_metrics(diagram_filters[1][1]))\n",
    "print('\"deutsch\" change')\n",
    "show_metrics(calc_metric_difference(calc_metrics(diagram_filters[1][1])))\n",
    "print('Adjektive')\n",
    "show_metrics(calc_metrics(diagram_filters[2][1]))\n",
    "print('Adjektive change')\n",
    "show_metrics(calc_metric_difference(calc_metrics(diagram_filters[2][1])))"
   ]
  },
  {
   "cell_type": "code",
   "execution_count": null,
   "metadata": {},
   "outputs": [],
   "source": []
  }
 ],
 "metadata": {
  "kernelspec": {
   "display_name": "Python 3",
   "language": "python",
   "name": "python3"
  },
  "language_info": {
   "codemirror_mode": {
    "name": "ipython",
    "version": 3
   },
   "file_extension": ".py",
   "mimetype": "text/x-python",
   "name": "python",
   "nbconvert_exporter": "python",
   "pygments_lexer": "ipython3",
   "version": "3.7.6"
  }
 },
 "nbformat": 4,
 "nbformat_minor": 2
}
