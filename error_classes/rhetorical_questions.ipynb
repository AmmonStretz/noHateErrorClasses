{
 "cells": [
  {
   "cell_type": "markdown",
   "metadata": {},
   "source": [
    "# Rethorical Questions #\n",
    "\n",
    "Hypothese:\n",
    "Toxic statements are often hidden within rhetorical questions\n",
    "\n",
    "Reason: “It is common practice to wrap toxic statements online within rhetorical or suggestive questions as pointed out by Schmidt and Wiegand (2017).” (Challenges for Toxic Comment Classification: An In-Depth Error Analysis”, van Aken et al. 2018)\n",
    "\n",
    "#### Example ####\n",
    "\n",
    "ID: 4\n",
    "Label: False\n",
    "Prediction: True\n",
    "Confidence: 0.9357987\n",
    "Comment: Also muss ich aufgrund der Angst anders anziehen und auf jegliche Religionsfreiheit uä verzichten wegen dem Faschismus im Osten?\n",
    "\n",
    "ID: 38\n",
    "Label: False\n",
    "Prediction: True\n",
    "Confidence: 0.9646481\n",
    "Comment: Was macht die Frau in Deutschland? Sich vor der Wehrpflicht zu drücken, begründet kein Asyl. Und Migranten kennt unser Asylrecht nicht. Also, was macht die Frau hier?\n",
    "\n",
    "ID: 205\n",
    "Label: False\n",
    "Prediction: True\n",
    "Confidence: 0.5124429\n",
    "Comment: Wenn der \\\"Leibwächter von Bin Laden\\\" kein waschechter Terrorist ist, was war dann Bin Laden selbst?"
   ]
  },
  {
   "cell_type": "code",
   "execution_count": 6,
   "metadata": {},
   "outputs": [],
   "source": [
    "%run ../config.ipynb\n",
    "%run ../lib/data_loader.ipynb\n",
    "%run ../lib/helper_functions.ipynb\n",
    "%run ../lib/metrics_generator.ipynb\n",
    "%run ../lib/table_generator.ipynb\n",
    "%run ../lib/diagram_generator.ipynb\n",
    "\n",
    "data = load_data('../data/predictions.json')"
   ]
  },
  {
   "cell_type": "code",
   "execution_count": 7,
   "metadata": {},
   "outputs": [],
   "source": [
    "question_words = ['wer', 'wie', 'was', 'wieso', 'warum', 'weshalb', 'wo', 'wohin', 'woher', 'wann', 'wen', 'wem', 'woran', 'worauf', 'wozu', 'weswegen']\n",
    "\n",
    "\n",
    "# als Teilwort\n",
    "def all(c):\n",
    "    return True\n",
    "def contains_question(element):\n",
    "    hasQW = False\n",
    "    for token in element['tokens']:\n",
    "        for question_word in question_words:\n",
    "            if question_word == token.text.lower():\n",
    "                hasQW = True\n",
    "        if token.pos_ == 'PUNCT' and token.text != ',':\n",
    "            if token.text == '?':\n",
    "                return True\n",
    "            hasQW = False\n",
    "    return False\n",
    "def contains_exclamation(element):\n",
    "    hasQW = False\n",
    "    for token in element['tokens']:\n",
    "        for question_word in question_words:\n",
    "            if question_word == token.text.lower():\n",
    "                hasQW = True\n",
    "        if token.pos_ == 'PUNCT' and token.text != ',':\n",
    "            if token.text == '!':\n",
    "                return True\n",
    "            hasQW = False\n",
    "    return False"
   ]
  },
  {
   "cell_type": "code",
   "execution_count": 8,
   "metadata": {},
   "outputs": [
    {
     "data": {
      "text/html": [
       "<table>\n",
       "<tbody>\n",
       "<tr><td>id </td><td>label</td><td>prediction</td><td>text                                                                                                                                                                                                                                                                                                                                                                                                         </td><td>probability</td></tr>\n",
       "<tr><td>4  </td><td>False</td><td>True      </td><td>Also muss ich aufgrund der Angst anders anziehen und auf jegliche Religionsfreiheit uä verzichten wegen dem Faschismus im Osten?                                                                                                                                                                                                                                                                             </td><td>0.9357987  </td></tr>\n",
       "<tr><td>21 </td><td>False</td><td>False     </td><td>Wie es wohl der CSU in Bayern schmecken wird, in den kommenden vier Jahren mit den braunen GrünInnen eine Koalition eingehen zu müssen, nur um weiter in Bayern Pöstchen zu ergattern?                                                                                                                                                                                                                       </td><td>0.5664595  </td></tr>\n",
       "<tr><td>22 </td><td>True </td><td>True      </td><td>Was beginnt nun, ein erneutes Verfahren bei denen wieder Richter*innen an der Realität vorbei urteilen. Wenn dieser Islamist wieder Menschen für den IS anwirbt, was dann? Dann waschen sich diese Richter*innen ihre blutigen Hände in Unschuld.                                                                                                                                                            </td><td>0.9686386  </td></tr>\n",
       "<tr><td>32 </td><td>True </td><td>True      </td><td>Wie lange schauen unsere Politiker noch unserem Untergang zu?                                                                                                                                                                                                                                                                                                                                                </td><td>0.9720097  </td></tr>\n",
       "<tr><td>33 </td><td>False</td><td>False     </td><td>Das, was Linke und Grüne hier veranstalten, ist ein Konjunkturprogramm für alle rechten Populisten und Extremisten.\\xa0 Sehen sie das nicht oder ist das gewolltes Handeln?                                                                                                                                                                                                                                  </td><td>0.82411194 </td></tr>\n",
       "<tr><td>38 </td><td>False</td><td>True      </td><td>Was macht die Frau in Deutschland? Sich vor der Wehrpflicht zu drücken, begründet kein Asyl. Und Migranten kennt unser Asylrecht nicht. Also, was macht die Frau hier?                                                                                                                                                                                                                                       </td><td>0.9646481  </td></tr>\n",
       "<tr><td>42 </td><td>False</td><td>True      </td><td>Und der nächste aus dem Saarland in der Freak-Show der obskuren Auftritte !   Wird ein wenig viel in letzter Zeit, nich ?  Dieses Ländle erscheint doch recht merkwürdig ! Erich der Dachdecker, das M.-Männchen, AKK-der Zwilling von Frau Merkel, jetzt noch dieser Märchenonkel.   Dagegen ist ja die Augsburger Puppenkiste als höchst seriös zu bezeichnen ! Oder Pittiplatsch mit seinem Gequatsche    </td><td>0.55765635 </td></tr>\n",
       "<tr><td>43 </td><td>True </td><td>False     </td><td>Einzig eine konsequente Ausweisung dieser Straftäter, in diesem Fall zuerst die Aberkennung der deutschen Staatsbürgerschaft, wie ist er überhaupt an die gekommen? Schon allein das bedürfte einer Untersuchung. Nur diese Maßnahme kann halbwegs weiter öffentliche Übergriffe verhindern                                                                                                                  </td><td>0.52690274 </td></tr>\n",
       "<tr><td>65 </td><td>False</td><td>False     </td><td>Was ein rassistischer Komentar?!! Du dreckiger Nazi! Sei froh dass sie eure Ärsche wäscht                                                                                                                                                                                                                                                                                                                    </td><td>0.81007767 </td></tr>\n",
       "<tr><td>66 </td><td>False</td><td>False     </td><td>Noch habe ich die Hoffnung nicht ganz aufgegeben, daß sich der gesunde Menschenverstand gegenüber unseren linksgrün versifften, gehirngewaschenen Ideologen in Politik und Medien letztlich doch noch durchsetzen wird. Aber wird es bis dahin nicht schon zu spät sein?                                                                                                                                     </td><td>0.8325262  </td></tr>\n",
       "<tr><td>69 </td><td>False</td><td>True      </td><td>Ich halte eine Physikerin???  Merkel für einen Stasi Fake, denn die weist Lücken selbst bei den Grundlagen von Physik und Mathe auf. Ich  halte CDU Merkel für ungebildet. Logische Zusammenhänge erfasst sie  schlecht. Lügenpresse (Fake News) schreibt jedoch Merkel sei klug. Sie solle alles von hinten denken, scheibt die Presse. Quatsch, ohne Augen vorn, kann man nicht sehen.                     </td><td>0.50505126 </td></tr>\n",
       "<tr><td>82 </td><td>False</td><td>False     </td><td>An deinen Worten. Woran denn sonst? Dein jungfräulicher Account gibt doch nicht mehr her. Du hast einfach überhaupt kein Vertrauen in Deutschland.                                                                                                                                                                                                                                                           </td><td>0.6874896  </td></tr>\n",
       "<tr><td>87 </td><td>False</td><td>False     </td><td>ohnehin, nicht nur bei ihr, eine deutsche Krankheit, den halben Tag zu analysieren. Und das war es dann. Lösung? Nein, da wird weiter analysiert, aber es wird NICHTS GETAN.                                                                                                                                                                                                                                 </td><td>0.6694899  </td></tr>\n",
       "<tr><td>89 </td><td>False</td><td>False     </td><td>Wo sind denn nun die ach so \"humanitären\" Teddywerfer? Da hört man nichts, wenn einer ihrer Goldstücke mal wieder über die Strenge geschlagen hat.                                                                                                                                                                                                                                                           </td><td>0.7025403  </td></tr>\n",
       "<tr><td>93 </td><td>True </td><td>False     </td><td>In der SPD sind ja auch nur schlecht ausgebildete FACHKRÄFTE. Welche SPDler könnten denn Schmidt, Brandt,Wehner oder Bahr nur das Wasser reichen? Nahles, Schulz oder Hegner? Ich lach mich schlapp                                                                                                                                                                                                          </td><td>0.7209092  </td></tr>\n",
       "<tr><td>115</td><td>False</td><td>False     </td><td>Wie sagte Merkel nach ihrer Wiederwahl - sie habe verstanden? Einfach lächerlich, es wird weiter debattiert, verzögert und nichts substanzielles zur Sicherung des deutschen Staates und seiner Sozialsysteme und des gesellschaftlichen Zusammenhaltes unternommen. Die Untätigkeit der Bundesregierung für das eigene Land und deren Bevölkerung ist unerträglich!                                         </td><td>0.54134494 </td></tr>\n",
       "<tr><td>116</td><td>False</td><td>True      </td><td>Was sagt der Bürgermeister zur Politik der GroKo, bei der sich zuletzt die SPD so sehr für den Nachzug von sogenannten Familienangehörigen eingesetzt hat. Oder hat der OB der Frau Özeguz beim Suchen der deutschen Leitkultur unterstützt ?  So sehr im dem OB Recht gebe, dass schon rumänische Zigeuner ein Problem sind, so sehr denke ich, dass er trotz der ganzen Probleme, die er jeden Tag ganz    </td><td>0.7527435  </td></tr>\n",
       "<tr><td>121</td><td>True </td><td>True      </td><td>wenn ich über das krankhafte, bürgerfeindliche Verhalten unserer Politiker nachdenke, die Folgen in der Politik und unseres Sozialsystems, die Abstauber bei Asylverfahren und die vielen kranken \\\"Gutmenschen\\\" und plötzlich (weil ja der eigene Job bedroht ist) wollen Politiker sich bürgernah verhalten? Die Summe der schwachsinnigen Fehlentscheidungen und die Folgen sind doch schon jetzt fast u </td><td>0.660426   </td></tr>\n",
       "<tr><td>123</td><td>False</td><td>True      </td><td>Mal eine Frage: Ist das Bild von AM wirklich echt? Keine Fotomontage? Für mich ist das Satans Fratze in Menschengestalt!  Der dritte Antichrist nach Napoleon und Stalin ist schon lange auf der Erde (laut Offenbarung und auch etlicher Seher!)  … und ich dachte immer, es wäre Soros…                                                                                                                    </td><td>0.9192608  </td></tr>\n",
       "<tr><td>135</td><td>False</td><td>False     </td><td>Lieber ein Heimat liebender Populist als ein CDU-Merkel-Volksverräter…. Wer möchte schon gern ein CDU-Merkel sein oder ein Claudia-Roth-Substitut ???                                                                                                                                                                                                                                                        </td><td>0.7213373  </td></tr>\n",
       "<tr><td>139</td><td>False</td><td>True      </td><td>… noch was, woher kommt Ramelow ??? Ist das nicht so ein \\\"Altkader\\\" aus dem Westen, den einst sogar der Verfassungsschutz beobachtete ?                                                                                                                                                                                                                                                                    </td><td>0.80502164 </td></tr>\n",
       "<tr><td>142</td><td>False</td><td>False     </td><td>das bedeutet jeder Verbrecher kann in Deutschland Asyl beantragen, damit er seiner Strafe entgehen kann? Was ein Irrsinn                                                                                                                                                                                                                                                                                     </td><td>0.82437855 </td></tr>\n",
       "<tr><td>153</td><td>False</td><td>True      </td><td>Familiennachzug wurde ja OHNE Mitbestimmung des deutschen Volkes im Bundestag von den korrupten Politikern beschlossen, was soll dieser scheiß Bericht?                                                                                                                                                                                                                                                      </td><td>0.81404847 </td></tr>\n",
       "<tr><td>155</td><td>False</td><td>True      </td><td>Glauben die verantwortlichen europäischen Regierungen wirklich mit dieser Politik der offenen Grenzen die Flüchtlingskrise zu lösen? Ich hab so meine Zweifel!                                                                                                                                                                                                                                               </td><td>0.9385938  </td></tr>\n",
       "<tr><td>159</td><td>True </td><td>False     </td><td>Ich gehe jetzt stark davon aus dass du nur große Klappe hast und geistlos den Floskeln deines Oberdruiden nachhängst ? Na... wer ist es denn ? Höcke, Storch, Gauland ? Ach komm kleiner Chupacabra, das kannst du doch wenigstens mal herausrücken *g                                                                                                                                                       </td><td>0.8061112  </td></tr>\n",
       "<tr><td>168</td><td>False</td><td>False     </td><td>Damals kamen Flüchtlinge, heute kommt man wegen dem dt. Sozialsystem. Wie will man das vergleichen? Die heute kommen wollen sich in die soz. Hängematte legen, es geht nicht um Verfolgung und sonstigen Blödsinn den man uns einreden will, es sind Wirtschaftsflüchtlinge und sonst nichts, kein Vergleich mit der damaligen Zeit.                                                                         </td><td>0.66104925 </td></tr>\n",
       "<tr><td>180</td><td>False</td><td>True      </td><td>Müssen sich denn diese Volksvertreter wirklich an keine Gesetze halten? Dürfen die wirklich alles beschließen, was ihnen so durch die Birne geht? Wann wird endlich beschlossen, das diese „Spitzen der Politik“ wenigstens ein Mal in ihrem Leben gearbeitet haben müssen?                                                                                                                                  </td><td>0.5361877  </td></tr>\n",
       "<tr><td>189</td><td>False</td><td>True      </td><td>Und zwar waren die Früheren Flüchtlinge integrationswilliger als heute , und Sie haben keine Menschen in den Gastländern ausgeraubt , verletzt ,vergewaltigt oder gar getötet . Warum fehlen diese Warheiten ?                                                                                                                                                                                               </td><td>0.9137957  </td></tr>\n",
       "<tr><td>205</td><td>False</td><td>True      </td><td>Wenn der \\\"Leibwächter von Bin Laden\\\" kein waschechter Terrorist ist, was war dann Bin Laden selbst?                                                                                                                                                                                                                                                                                                        </td><td>0.5124429  </td></tr>\n",
       "<tr><td>208</td><td>False</td><td>False     </td><td>Wie peinlich für die entscheidenden Behörden. Lassen die sich dort ungestraft Märchen aus dem Orient erzählen oder wie kann es zu Tausenden Fehlentscheidungen kommen? Ich möchte nicht wirklich wissen, was sich mittlerweile so alles im Land aufhält und durch den Steuerzahler alimentiert wird.                                                                                                         </td><td>0.55209595 </td></tr>\n",
       "<tr><td>212</td><td>False</td><td>False     </td><td>Sind das wirklich die einzigen Themen die da angesprochen wurden? Und jedes wurde von Ihr mit Floskeln, bürgernah, abgewatscht                                                                                                                                                                                                                                                                               </td><td>0.82768106 </td></tr>\n",
       "<tr><td>221</td><td>False</td><td>False     </td><td>LÜGNER , LÜGNER , LÜGNER EUCH GLAUBT SCHON LANGE KEINER MEHR !!!! warum sollen die sich integrieren , ??? Der krieg ist vorbei herr SÖDER !                                                                                                                                                                                                                                                                  </td><td>0.8231467  </td></tr>\n",
       "<tr><td>224</td><td>False</td><td>False     </td><td>Haben Sie in den letzten Jahren einmal einen kritischen Bericht über die Grünen in unseren Medien gesehen oder gehört? Wenn beispielweise ein Grüner im Deutschlandfunk interviewt wird, erinnert das an Schülerradio. Anstatt kritischer Fragen werden dort nur rhetorische Vorlagen gegeben.                                                                                                               </td><td>0.64489603 </td></tr>\n",
       "<tr><td>227</td><td>True </td><td>True      </td><td>Nein das wäre so dermassen blöd von unseren Eliten, dass das nur Vorsatz gewesen sein kann. Da teile Observer3' Meinung.\\r Warum ist wohl Merkel vor etwas über einer Woche in den Libanon gereist und hat die nächsten süssen Selfies mit Flüchtlingen für die Presse gemacht?                                                                                                                              </td><td>0.90220517 </td></tr>\n",
       "<tr><td>239</td><td>False</td><td>True      </td><td>Mit welchem Recht bekommen IS Terroristen,Kopfabschneider, Massenmörder und Vergewaltiger Asyl in Deutschland ?                                                                                                                                                                                                                                                                                              </td><td>0.80107844 </td></tr>\n",
       "<tr><td>244</td><td>True </td><td>True      </td><td>Was bringt uns eine Person aus Ghana, Eritrea oder Tunesien die angeblich hier ein Jobangebot hat, dann doch arbeitslos wird und einen Asylantrag wegen (angeblicher) Homosexualität stellt?                                                                                                                                                                                                                 </td><td>0.9626742  </td></tr>\n",
       "<tr><td>253</td><td>False</td><td>False     </td><td>Seid Ihr vom Konservensender n-tv bezüglich einer Klarstellung zum Tathergang im Chemnitz schon angefunkt worden? Unter dem Titel \\\"dreiste Lügen\\\" (was n-tv immer unter den Titel verstehen mag) wird auch Compact benannt.                                                                                                                                                                                </td><td>0.8057317  </td></tr>\n",
       "<tr><td>265</td><td>False</td><td>False     </td><td>Demagogie, die Seehofer da liefert. Was ist denn falsch an den vielen Zitaten, die er abgelassen hat? Ihm missfällt nur die Bewertung seiner Zitate durch die Öffentlichkeit. Jetzt gibt er die Kopie von Trump. Wie arm.                                                                                                                                                                                    </td><td>0.5958718  </td></tr>\n",
       "<tr><td>272</td><td>False</td><td>False     </td><td>Was schreiben Sie da so unüberlegt einfach hin? Wollen Sie Unruhe statt vernünfigen Gedanken verbreiten?                                                                                                                                                                                                                                                                                                     </td><td>0.8297072  </td></tr>\n",
       "<tr><td>273</td><td>False</td><td>False     </td><td>Bekommen die Pegida-Pöbler denn jetz was sie wollen?                                                                                                                                                                                                                                                                                                                                                         </td><td>0.8272867  </td></tr>\n",
       "<tr><td>284</td><td>True </td><td>True      </td><td>„Meinungsfreiheit?“ „Na bestimmte Meinungen sind davon nicht gedeckt.?“ „Und wer sortiert die falschen Meinungen aus?“ „Hab mal ein bißchen mehr Vertrauen? Du hast ja eine schlechte Meinung von deinen Journalistenkollegen.“ „Weil ich Sie kenne.                                                                                                                                                         </td><td>0.9585628  </td></tr>\n",
       "<tr><td>291</td><td>False</td><td>True      </td><td>Gibt es in Deutschland nicht schon genug Migranten, die unser Sozialsystem überdehnen und über kurz oder lang den sozialen Frieden gefährden?                                                                                                                                                                                                                                                                </td><td>0.71437365 </td></tr>\n",
       "<tr><td>292</td><td>False</td><td>False     </td><td>Tja,warum ist den alles zur AFD gerannt? Weil die Linke weiterhin die Tore offen halten wollte.                                                                                                                                                                                                                                                                                                              </td><td>0.82852125 </td></tr>\n",
       "<tr><td>298</td><td>False</td><td>False     </td><td>Nach Abitur direkt auswandern ohne arbeiten zu müssen?  Was ein sorgloses Leben.  Das sind dann auch irgendwie immer die Leute die die ganze Welt retten wollen... Interessant dass sie jetzt schon ideologisch motivierte Kleidung trägt und sich freut wenn Leute sie drauf ansprechen und fragen stellen, sie selbst hat aber sich wohl nicht gefragt was die ideologische Motivation von Kopftüchern ist.</td><td>0.51661485 </td></tr>\n",
       "<tr><td>312</td><td>True </td><td>True      </td><td>Was sind das für Richter?                                                                                                                                                                                                                                                                                                                                                                                    </td><td>0.890651   </td></tr>\n",
       "<tr><td>314</td><td>False</td><td>True      </td><td>Soweit ich das beurteilen kann, klaut die AfD die meisten ihrer Ideen bei amerikanischen Rechtspopulisten. Oder wie sonst soll man erklären, daß sich die AfD als einzige Partei für die vollständige Abschaffung der Erbschaftssteuer einsetzt? Nicht mal die FDP geht so weit!                                                                                                                             </td><td>0.775037   </td></tr>\n",
       "<tr><td>320</td><td>False</td><td>True      </td><td>Du meinst die Hartzer die aus dem Osten in den Westen kommen und unsere Sozialsysteme ausnutzen?                                                                                                                                                                                                                                                                                                             </td><td>0.76821405 </td></tr>\n",
       "<tr><td>326</td><td>False</td><td>False     </td><td>nur Til Schweiger ??? Wer ist das ??? Muß man  diese Gutmenschen-Type kennen ????                                                                                                                                                                                                                                                                                                                            </td><td>0.80059963 </td></tr>\n",
       "<tr><td>334</td><td>True </td><td>False     </td><td>Sie, Herr Winterstein, schwafeln mangels Sachargumenten von \"Rassismus\", geht es noch blöder? \\r Ihre selbstreferentiellen \"Weisheiten\" sind betreutes Denken von Vorgestern                                                                                                                                                                                                                                 </td><td>0.8128646  </td></tr>\n",
       "<tr><td>335</td><td>False</td><td>True      </td><td>Entscheidet das Frau Angela Merkel persönlich oder vielleicht sogar unser Innenminister der vorher so getönt hat dass es mit ihm nicht geht?                                                                                                                                                                                                                                                                 </td><td>0.5538735  </td></tr>\n",
       "<tr><td>338</td><td>True </td><td>True      </td><td>Wie kann man als Professor nur so ignorant sein?                                                                                                                                                                                                                                                                                                                                                             </td><td>0.9482206  </td></tr>\n",
       "<tr><td>340</td><td>False</td><td>False     </td><td>Wie naiv und d**m kann man sein ?                                                                                                                                                                                                                                                                                                                                                                            </td><td>0.8292333  </td></tr>\n",
       "<tr><td>348</td><td>False</td><td>False     </td><td>Ich kann es mir auch nicht verkneifen: Blöd, selber schuld. Vielleicht war´s eine Teddybär-Werferin?!                                                                                                                                                                                                                                                                                                        </td><td>0.8020984  </td></tr>\n",
       "<tr><td>349</td><td>True </td><td>True      </td><td>Und was soll Europa mit Massen überwiegend nicht sozialisierbarer und bildbarer Menschen anfangen die bestenfalls für Hilfsarbeiten in Frage kommen? Davon wandern nach wie vor ca. 80 %  dauerhaft in die Sozialsysteme ein.                                                                                                                                                                                </td><td>0.5305767  </td></tr>\n",
       "<tr><td>351</td><td>True </td><td>True      </td><td>Sage 2 die Nazi Schweine seit ihr !!! Ihr wollt unser Land zerstören!!! Wie krank seit ihr ??? Seit ihr wahnsinnig geworden??? Die überrollen uns....merkst du noch irgendwas???? Was haben deine Eltern bei dir falsch gemacht ???? Willst du ganz Afrika aufnehmen??? Lass doch mal deinen normalen Menschenverstand walten.....WIR KÖNNEN NICHT ALLE AUFNEHMEN!!!! Geht das in deinen Kopf nicht rein??   </td><td>0.78942364 </td></tr>\n",
       "<tr><td>352</td><td>False</td><td>True      </td><td>-Bewertung 886 1136\t- Warum ergreifen ausgerechnet Arbeitnehmer in Deutschland so herzergreifend Partei für die Gewinne der Arbeitgeber? Was verspricht man sich davon, wenn man die eigene Ausbeutung (ja, in diesem Gewerbe ist es häufig genau das: Ausbeutung) verteidigt?                                                                                                                                                                                                                                                                                                                                                                                                              </td><td>0.83289856 </td></tr>\n",
       "<tr><td>366</td><td>False</td><td>False     </td><td>doof wenn man keine Ahnung hat, was?                                                                                                                                                                                                                                                                                                                                                                         </td><td>0.79664105 </td></tr>\n",
       "<tr><td>377</td><td>False</td><td>True      </td><td>Wenn die UNO hier „sich so gut mit Volkswirtschaft“ auskennt, warum gibt es denn noch UNO-Flüchtlingslager und keine regionalen Entwicklungspläne & „Charter Cities“ (nach Paul Romer) für die Entwicklungsländer & Krisengebiete ??? Damit wäre den betroffenen Regionen viel besser geholfen, als die vielen Menschen in „UNO-Lager“ zu sperren und dann von den UNO-Mitgliedsländer (höher                </td><td>0.75265324 </td></tr>\n",
       "<tr><td>383</td><td>False</td><td>False     </td><td>Du glaubst alles was man dir sagt? Dann bist du nicht ganz dicht sorry                                                                                                                                                                                                                                                                                                                                       </td><td>0.82230526 </td></tr>\n",
       "<tr><td>391</td><td>False</td><td>False     </td><td>Wie kommt diese Regierung eigentlich dazu, so unverantwortlich mit Deutschen Steuergeldern umzugehen?                                                                                                                                                                                                                                                                                                        </td><td>0.5018744  </td></tr>\n",
       "<tr><td>392</td><td>False</td><td>True      </td><td>Ob die Analphabeten die versuchen über das Asylsystem nach Deutschland zu kommen geeignet sind als Maurer, Dachdecker, Maler, Fliesenleger etc?                                                                                                                                                                                                                                                              </td><td>0.72650033 </td></tr>\n",
       "<tr><td>400</td><td>False</td><td>False     </td><td>Lesen kannst du schon?                                                                                                                                                                                                                                                                                                                                                                                       </td><td>0.81524575 </td></tr>\n",
       "<tr><td>402</td><td>False</td><td>False     </td><td>Rechtsradikale verabreden sich via Facebook und anderen sozialen Medien zum Landriedensbruch. Dieser findet statt, aber das eine habe mit dem anderen nichts zu tun?                                                                                                                                                                                                                                         </td><td>0.8278     </td></tr>\n",
       "<tr><td>404</td><td>False</td><td>False     </td><td>fängt dieser autist/monothematiker schon wieder an!?                                                                                                                                                                                                                                                                                                                                                         </td><td>0.82508504 </td></tr>\n",
       "<tr><td>408</td><td>False</td><td>False     </td><td>Wobei ich mir die Frage stelle , wie kommt Facebook oder Twitter zu dem Namen „ soziale Netzwerke“ ?  Wenn die Daten, die von Facebook gesammelt werden, verkauft werden und jeden denkbaren Schaden anrichten.  Wenn das Geschäftsgebaren von Facebook auf das Nichtbezahlen von Steuern ausgerichtet ist .                                                                                                 </td><td>0.64588994 </td></tr>\n",
       "<tr><td>411</td><td>False</td><td>False     </td><td>Eines ist doch klar, der Bürger steht so langsam auf, die Bürger der ehemaligen DDR habens vorgemacht wie es geht, also wo ist das Problem?                                                                                                                                                                                                                                                                  </td><td>0.82791364 </td></tr>\n",
       "<tr><td>414</td><td>True </td><td>False     </td><td>Sind die deutschen Gerichte verrückt geworden? WIR sollen dem Tunesier einen Notreisepass ausstellen?                                                                                                                                                                                                                                                                                                        </td><td>0.61053866 </td></tr>\n",
       "<tr><td>421</td><td>False</td><td>False     </td><td>Deutsche dafür erstochen zu werden??!! Scheis Trotzkismus!!! Schande für die Linke!                                                                                                                                                                                                                                                                                                                          </td><td>0.7811787  </td></tr>\n",
       "<tr><td>424</td><td>True </td><td>True      </td><td>Expert wofuer? Fuer Alles, passenderweise sind GruenInnen per Definiton auch Experten fuer Alles.  Also KGE und Claudi Roth, wie stehts.                                                                                                                                                                                                                                                                     </td><td>0.5719756  </td></tr>\n",
       "<tr><td>425</td><td>False</td><td>False     </td><td>Es war jedem vorausschauenden Menschen klar, dass die aus meiner Sicht sinnlose EU-Osterweiterung (was bringt uns diese ?) mit allen Konsequenzen, wie z.B. Freie Wahl des Wohnsitzes in der EU, uns genau diese Probleme bringt. Dann hätte man als kluge Regierung die Kindergeldgesetze VORHER ändern sollen, bevor man diesen Unfug beschließt.                                                          </td><td>0.54910827 </td></tr>\n",
       "<tr><td>429</td><td>False</td><td>False     </td><td>Unglaublich so weit ist der Staat schon unterwandert?                                                                                                                                                                                                                                                                                                                                                        </td><td>0.8347895  </td></tr>\n",
       "<tr><td>433</td><td>False</td><td>False     </td><td>Kann der Peter die Dagmar auch widerlegen oder bleibts beim Pöbeln?                                                                                                                                                                                                                                                                                                                                          </td><td>0.5104034  </td></tr>\n",
       "<tr><td>435</td><td>False</td><td>True      </td><td>Nun darf die Gesellschaft für diesen Menschen Steuern zahlen damit er ohne Stress hier bei Vollversorgung leben darf. Wer stellt diesen Menschen ein, welches Unternehmen kann einer Belegschaft die Zusammenarbeit mit diesen zumuten?                                                                                                                                                                      </td><td>0.5018792  </td></tr>\n",
       "<tr><td>452</td><td>True </td><td>False     </td><td>Die WELCOME-Klatschaffen haben wohl keine Lust mehr, um sich SELBST um ihren HERBEIGESEHNTEN Unrat zu kümmern?                                                                                                                                                                                                                                                                                               </td><td>0.7946991  </td></tr>\n",
       "<tr><td>456</td><td>False</td><td>True      </td><td>Kleine Ergänzung: Vielsagend ist auch die Bemerkung des SPD-Oberbürgermeisters, er müsse sich mit dem Problem beschäftigen! Er will ja eigentlich gar nicht (wohnt selber sowieso woanders), aber wenn diese penetranten deutschen Anwohner einfach keine Ruhe geben, na dann muss er eben … Was bei der Beschäftigung wohl herauskommt? Bestimmt keine Sinti und Roma, für die Begriffe wie Hygiene, Sa     </td><td>0.9317772  </td></tr>\n",
       "<tr><td>459</td><td>True </td><td>False     </td><td>Ja, das ueber die Bindung las ich auch.  Was wird sein wenn z. B. nur Frankreich und Deutschland unterzeichnen und einige wenige andere EU-Staaten? Zutrauen wuerde ich das Merkel und Macron. Die Kacke waere voll am Dampfen! Hoffen wir, dass die Unterzeichnung nicht stattfindet.                                                                                                                       </td><td>0.58688104 </td></tr>\n",
       "<tr><td>468</td><td>False</td><td>False     </td><td>Weit denken kannst Du auch nicht, hm? Wie kontaktest Du denn Freunde, Verwandte, wenn Du weit weg bist? Ach, ich vergass: Du dümpelst ja nur im geistigen Suppenteller und der Rand ist so hoch.                                                                                                                                                                                                             </td><td>0.8243698  </td></tr>\n",
       "<tr><td>478</td><td>False</td><td>False     </td><td>Kann man diese Alternativen irgendwo im Praxistest bewundern oder sind das Hirngespinste von Sektierern und Ideologen?                                                                                                                                                                                                                                                                                       </td><td>0.5744877  </td></tr>\n",
       "<tr><td>516</td><td>True </td><td>True      </td><td>trotzdem wirft der ehemalige BP gauck den deutschen vor, dunkelhäutige in U-bahnen anzugreifen. der mann ist noch nie u-bahn gefahren und internet ist für ihn, wie für merkel, neuland (youtube)?!                                                                                                                                                                                                          </td><td>0.5166856  </td></tr>\n",
       "<tr><td>517</td><td>True </td><td>True      </td><td>Für wie blöd hält eine deutsche Professorin eigentlich die Leser?\\r \\r Und welchen \"Elitendiskurs\"? Das beliebige willkürliche Geschwätz durchpolitisierter Pseudowissenschaftler? Diese  Möchtegernelite vom Sarrazenen bis Foroutan in die Produktion!\\r \\r  Schlimmeren Bodensatz kann eine Gesellschaft kaum hervorbringen als solche \"Wissenchaftler\".                                                  </td><td>0.8099455  </td></tr>\n",
       "<tr><td>519</td><td>False</td><td>False     </td><td>Hat Clowndia Roth das Grundgesetzt immer noch nicht gelesen? Oder will wie es nicht verstehen?                                                                                                                                                                                                                                                                                                               </td><td>0.73950857 </td></tr>\n",
       "<tr><td>524</td><td>True </td><td>True      </td><td>Kann denn Niemand den Schleppern auf der Aquarius und Co. das schändliche Handwerk legen und die Schleusung nach Europa verhindern?                                                                                                                                                                                                                                                                          </td><td>0.78128684 </td></tr>\n",
       "<tr><td>526</td><td>False</td><td>False     </td><td>Wer ist eigentlich dieser Maissack?                                                                                                                                                                                                                                                                                                                                                                          </td><td>0.7047443  </td></tr>\n",
       "<tr><td>541</td><td>True </td><td>True      </td><td>Wie war es? Die „Politik“ sagte immer wieder, man solle den Politikern gutes Geld zahlen, sonst haben wir keine „hellen Köpfe“, ja „keine Guten“ in der Politik.  Wie helle und gut die aktuellen Köpfe sind, wissen wir ja mittlwerweile.                                                                                                                                                                   </td><td>0.9404869  </td></tr>\n",
       "<tr><td>556</td><td>False</td><td>False     </td><td>Ihr wisst aber schon, dass dies alles im Desaster enden wird? Es gibt kein zurück mehr, denn man kann alle diese Menschen in Europa nicht mehr wegschicken. Und was sich hier, vor allem in Frankreich, England und Berlin, Hamburg, Bremen usw. verankert hat, wird den totalen Unmenschlichen Tod für viele bedeuten.  Merkel und alle anderen, die an dem beteiligt waren und noch immer sind, haben etwas</td><td>0.61240846 </td></tr>\n",
       "<tr><td>561</td><td>False</td><td>True      </td><td>Sie zollen Menschen keinen Respekt, die ihren Urlaub und eigenes Geld einsetzen, um anderen das Leben zu retten? Mit europäischen Werten (Christentum, Humanismus) haben Sie dann wohl nicht viel am Hut?                                                                                                                                                                                                    </td><td>0.75392497 </td></tr>\n",
       "<tr><td>569</td><td>True </td><td>True      </td><td>Was bei der Beschäftigung wohl herauskommt? Bestimmt keine Sinti und Roma, für die Begriffe wie Hygiene, Sauberkeit, Rücksicht auf Mitmenschen irgend eine Bedeutung haben.                                                                                                                                                                                                                                  </td><td>0.9737118  </td></tr>\n",
       "<tr><td>574</td><td>False</td><td>False     </td><td>nd was ist das , was du hier machst ? Prangerst angebliche Hetze an und bist selbst der grösste Hetzer . Mach nur weiter so , hast nicht mehr an Hetze auf Lager ? Lügner bist auch , er sagte , er wolle Boateng nicht als Nachbarn , nicht die Deutschen . Und dass ist eine persönliche Meinung und keine Beleidigung . Warum vergleichst du uns mit Massenmördern , die die Nazis nun mal waren . Da wil </td><td>0.7482568  </td></tr>\n",
       "<tr><td>585</td><td>False</td><td>True      </td><td>Meine Fragen beantworten Sie aber nicht und verweisen suf die Araber. Sind derartige Fragen zu unbequem oder haben Sie keine Antworten?                                                                                                                                                                                                                                                                      </td><td>0.6077176  </td></tr>\n",
       "<tr><td>587</td><td>True </td><td>True      </td><td>Und der gleiche Richter besteht darauf, dass Mitmenschen ihn selbst bezahlen. Mit welchem Selbstverständnis eigentlich?   Dass er in Deutschland für Recht und Ordnung sorgt?  Ist DAS Recht und Ordnung? In keinem anderen Land der Welt würde die Justiz es tolerieren, dass ausländische Straftäter soviele Opfer hervorrufen können.                                                                     </td><td>0.96975595 </td></tr>\n",
       "<tr><td>588</td><td>True </td><td>True      </td><td>obwohl man nicht weiß, ob es diese Kinder überhaupt gibt!? Dan gehören diejenigen, die diese Überweisungen veranlassen, angeklagt und vor Gericht gestellt                                                                                                                                                                                                                                                   </td><td>0.87878853 </td></tr>\n",
       "<tr><td>592</td><td>True </td><td>False     </td><td>Die Frage ist doch wie konnte es zu dieser Verwirrung der Geister kommen? (Ich spreche jetzt von der katholischen Welt?) Es liegt doch an dieser - seit dem letzten Konzil - in Mode gekommenen Bibelleserei, die absolut in die Irre führt. Da haut man sich gegenseitig - natürlich selbstinterpretierte - Bibelverse um die Ohren.und wundert sich dann über das Ergebnis. Wir müssen zurück zur katholi  </td><td>0.5108992  </td></tr>\n",
       "<tr><td>603</td><td>False</td><td>True      </td><td>Die verteidigen also nicht gegen illegale Einwanderer?                                                                                                                                                                                                                                                                                                                                                       </td><td>0.7556658  </td></tr>\n",
       "<tr><td>609</td><td>False</td><td>False     </td><td>Diese Gestalt … hat wohl einige Lines Koks zuviel durch die Nase gezogen … !? tztztz… hirnverbrandtes, dummschwätzendes, Etwas …                                                                                                                                                                                                                                                                             </td><td>0.73189956 </td></tr>\n",
       "<tr><td>614</td><td>True </td><td>False     </td><td>CH HABE MIT GENÜGEND DIESER AFFEN GESPROCHEN UND BITTERE ERFAHRUNGEN GEMACHT und allgemein wohin kommen wir ohne Verallgemeinerungen....? Die Politaffen  arbeiten nur mit Verallgemeinerungen  ..Deutsche sind NAZIs etc.                                                                                                                                                                                   </td><td>0.8226238  </td></tr>\n",
       "<tr><td>616</td><td>True </td><td>True      </td><td>Beim Asylrecht geht es also um Menschen in Not. Sind das diese Typen, die man immer auf den Booten im Mittelmeer sieht? Dann kann man folgendes festhalten: in Not sind in der ganzen Welt fast ausschließlich junge Männer mit Designerklamotten und Smartphones, die das Victory-Zeichen machen. Hatte ich mir anders vorgestellt, hätte da jetzt eher Alte, Kranke, Frauen und Kinder vermutet.           </td><td>0.95949745 </td></tr>\n",
       "<tr><td>620</td><td>True </td><td>False     </td><td>Für wie dumm wird die Bevölkerung gehalten ?? nur weil die geneigten Medien keine Nachfragen stellen ?                                                                                                                                                                                                                                                                                                       </td><td>0.833151   </td></tr>\n",
       "<tr><td>628</td><td>False</td><td>False     </td><td>Wie tief muss ein Land, eine Regierung sinken um diesen Menschen ohne Not wieder ins Land zu holen?                                                                                                                                                                                                                                                                                                          </td><td>0.5079775  </td></tr>\n",
       "<tr><td>629</td><td>False</td><td>False     </td><td>Die ehemalige SPD Landesregierung und die GroKo in Berlin sind dafür verantwortlich. Wo bleiben eigentlich die Grünen, wo bleiben Habeck und Baerbock? Unser Land war noch nie so dreckig und runtergewirtschaftet wie momentan. Danke SPD und CDU.                                                                                                                                                          </td><td>0.5263746  </td></tr>\n",
       "<tr><td>631</td><td>True </td><td>True      </td><td>»Wir schulden den Afrikanern und Arabern nichts. Sie haben ihre Kontinente durch Korruption, Schlendrian, ungehemmte Vermehrung und Stammes- und Religionskriege zerstört und nehmen uns nun weg, was wir mit Fleiß aufgebaut haben.« sehen wir uns die Fakten mal an: seit fast 100Jahren helfen un unterstützen wir den Afrikanischen kontinent mit Geld und Sachspenden und was ist daraus geworden?? ni  </td><td>0.93657804 </td></tr>\n",
       "<tr><td>642</td><td>False</td><td>False     </td><td>Was aber besonders ernüchternd ist, dass die Grünen um den \\\"Wollpulli\\\" H. immer mehr Zuwendung vom Wähler erfahren. Also greift die Hetze gegen die Andersdenkenden wohl noch oder wie sind sonst die Zahlen zu erklären?                                                                                                                                                                                  </td><td>0.6647178  </td></tr>\n",
       "<tr><td>643</td><td>False</td><td>False     </td><td>Neidisch,daß dies Deutschen unmöglich ist, weil die regelmäßig keine Regierung haben,die loyal zum Volk steht?                                                                                                                                                                                                                                                                                               </td><td>0.8210238  </td></tr>\n",
       "<tr><td>646</td><td>False</td><td>False     </td><td>Ein Teil?Die kommen doch so wieso alle zu uns nach Deutschland,ins gelobte Land.                                                                                                                                                                                                                                                                                                                             </td><td>0.7996567  </td></tr>\n",
       "<tr><td>652</td><td>False</td><td>True      </td><td>Was für ein Dummschwätzer! Erst zerlegt die moderne SA der Antifa ganz Hamburg, zündet Autos von Steuerzahlern an, fortlaufender Terror bis hinein in das eigene Viertel - Schantzenviertel - Wie doof ist das denn?! Kristallnacht mit allem drum und dran. Damals war es organisierter. Sehr viel Denken darf man den Linken eben nicht unterstellen.                                                      </td><td>0.57178    </td></tr>\n",
       "<tr><td>655</td><td>False</td><td>True      </td><td>Warum übernehmen die Deutschen jetzt diese Rolle und müssen alles und jeden auf der Welt kritisieren und belehren? Das ist so dermaßen anmaßend!                                                                                                                                                                                                                                                             </td><td>0.6413145  </td></tr>\n",
       "<tr><td>656</td><td>False</td><td>True      </td><td>Hat euch darüber niemand informiert  liebe Generation Y? Die Konzerne haben neue Absatzmärkte, Arbeitnehmer aus sonstwo und der kleine Mann hat Kriminalität und hohe Abgaben. Das ist fakt. Ach ja, er braucht 1x im Jahr nicht kurz an der Grenze warten. Dafür gibt man doch gerne ein großes Stück Sicherheit im Rest vom Jahr auf.                                                                      </td><td>0.93158686 </td></tr>\n",
       "<tr><td>660</td><td>False</td><td>False     </td><td>Und die betuchten Berliner und sonstigen Reichen des Sytems kaufen dort wie bekloppt Wohnungen zu Wahnsinnspreisen.   Warum? Weil die rechte Mehrheit sie dort vor den Problemen schützt, die sie dem Rest von Deutschland antun!                                                                                                                                                                            </td><td>0.7881746  </td></tr>\n",
       "</tbody>\n",
       "</table>"
      ],
      "text/plain": [
       "<IPython.core.display.HTML object>"
      ]
     },
     "metadata": {},
     "output_type": "display_data"
    }
   ],
   "source": [
    "show_data(contains_question)"
   ]
  },
  {
   "cell_type": "code",
   "execution_count": 9,
   "metadata": {},
   "outputs": [
    {
     "data": {
      "image/png": "[encoded data removed]",
      "text/plain": [
       "<Figure size 432x288 with 1 Axes>"
      ]
     },
     "metadata": {
      "needs_background": "light"
     },
     "output_type": "display_data"
    },
    {
     "data": {
      "image/png": "[encoded data removed]",
      "text/plain": [
       "<Figure size 432x288 with 1 Axes>"
      ]
     },
     "metadata": {
      "needs_background": "light"
     },
     "output_type": "display_data"
    }
   ],
   "source": [
    "diagram_filters = []\n",
    "diagram_filters.append(('all', all))\n",
    "diagram_filters.append(('question', contains_question))\n",
    "diagram_filters.append(('exclamation', contains_exclamation))\n",
    "\n",
    "create_plt(name = \"absolute\", filters = diagram_filters, relative = False)\n",
    "create_plt(name = \"relative\", filters = diagram_filters, relative = True)"
   ]
  },
  {
   "cell_type": "code",
   "execution_count": 10,
   "metadata": {},
   "outputs": [
    {
     "name": "stdout",
     "output_type": "stream",
     "text": [
      "all\n"
     ]
    },
    {
     "data": {
      "text/html": [
       "<table>\n",
       "<tbody>\n",
       "<tr><td>                 </td><td>label hate (287)</td><td>label nohate (383)</td></tr>\n",
       "<tr><td>pred hate (245)  </td><td>157             </td><td>88                </td></tr>\n",
       "<tr><td>pred nohate (425)</td><td>130             </td><td>295               </td></tr>\n",
       "</tbody>\n",
       "</table>"
      ],
      "text/plain": [
       "<IPython.core.display.HTML object>"
      ]
     },
     "metadata": {},
     "output_type": "display_data"
    },
    {
     "data": {
      "text/html": [
       "<table>\n",
       "<tbody>\n",
       "<tr><td>accuracy          </td><td>precision         </td><td>recall            </td><td>f1_score          </td></tr>\n",
       "<tr><td>0.6746268656716418</td><td>0.6408163265306123</td><td>0.5470383275261324</td><td>0.5902255639097745</td></tr>\n",
       "</tbody>\n",
       "</table>"
      ],
      "text/plain": [
       "<IPython.core.display.HTML object>"
      ]
     },
     "metadata": {},
     "output_type": "display_data"
    },
    {
     "name": "stdout",
     "output_type": "stream",
     "text": [
      "question\n"
     ]
    },
    {
     "data": {
      "text/html": [
       "<table>\n",
       "<tbody>\n",
       "<tr><td>                </td><td>label hate (48)</td><td>label nohate (59)</td></tr>\n",
       "<tr><td>pred hate (30)  </td><td>20             </td><td>10               </td></tr>\n",
       "<tr><td>pred nohate (77)</td><td>28             </td><td>49               </td></tr>\n",
       "</tbody>\n",
       "</table>"
      ],
      "text/plain": [
       "<IPython.core.display.HTML object>"
      ]
     },
     "metadata": {},
     "output_type": "display_data"
    },
    {
     "data": {
      "text/html": [
       "<table>\n",
       "<tbody>\n",
       "<tr><td>accuracy          </td><td>precision         </td><td>recall            </td><td>f1_score          </td></tr>\n",
       "<tr><td>0.6448598130841121</td><td>0.6666666666666666</td><td>0.4166666666666667</td><td>0.5128205128205129</td></tr>\n",
       "</tbody>\n",
       "</table>"
      ],
      "text/plain": [
       "<IPython.core.display.HTML object>"
      ]
     },
     "metadata": {},
     "output_type": "display_data"
    },
    {
     "name": "stdout",
     "output_type": "stream",
     "text": [
      "question change\n"
     ]
    },
    {
     "data": {
      "text/html": [
       "<table>\n",
       "<tbody>\n",
       "<tr><td>                 </td><td>label hate (287)</td><td>label nohate (383)</td></tr>\n",
       "<tr><td>pred hate (263)  </td><td>185             </td><td>78                </td></tr>\n",
       "<tr><td>pred nohate (407)</td><td>102             </td><td>305               </td></tr>\n",
       "</tbody>\n",
       "</table>"
      ],
      "text/plain": [
       "<IPython.core.display.HTML object>"
      ]
     },
     "metadata": {},
     "output_type": "display_data"
    },
    {
     "data": {
      "text/html": [
       "<table>\n",
       "<tbody>\n",
       "<tr><td>accuracy          </td><td>precision         </td><td>recall            </td><td>f1_score          </td></tr>\n",
       "<tr><td>0.7313432835820896</td><td>0.7034220532319392</td><td>0.6445993031358885</td><td>0.6727272727272727</td></tr>\n",
       "</tbody>\n",
       "</table>"
      ],
      "text/plain": [
       "<IPython.core.display.HTML object>"
      ]
     },
     "metadata": {},
     "output_type": "display_data"
    }
   ],
   "source": [
    "print('all')\n",
    "show_metrics(calc_metrics())\n",
    "print('question')\n",
    "show_metrics(calc_metrics(diagram_filters[1][1]))\n",
    "print('question change')\n",
    "show_metrics(calc_metric_difference(calc_metrics(diagram_filters[1][1])))"
   ]
  },
  {
   "cell_type": "code",
   "execution_count": null,
   "metadata": {},
   "outputs": [],
   "source": []
  }
 ],
 "metadata": {
  "kernelspec": {
   "display_name": "Python 3",
   "language": "python",
   "name": "python3"
  },
  "language_info": {
   "codemirror_mode": {
    "name": "ipython",
    "version": 3
   },
   "file_extension": ".py",
   "mimetype": "text/x-python",
   "name": "python",
   "nbconvert_exporter": "python",
   "pygments_lexer": "ipython3",
   "version": "3.7.6"
  }
 },
 "nbformat": 4,
 "nbformat_minor": 2
}
