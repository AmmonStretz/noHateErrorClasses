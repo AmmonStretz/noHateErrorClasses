{
 "cells": [
  {
   "cell_type": "markdown",
   "metadata": {},
   "source": [
    "# Misspelled Words #\n",
    "\n",
    "Hypothesis: “The meaning of comments containing multiple misspelled words are harder to understand”\n",
    "\n",
    "Reason: “Because online comments often do not basically follow formal language conventions, there are many unstructured, informal and often misspelled and abbreviations. These make the abusive detection very difficult.“ (Detecting context abusiveness using hierarchical deep learning, Lee et al. 2019)\n",
    "\n",
    "Source: pyspellchecker Library (https://github.com/barrust/pyspellchecker)\n",
    "\n",
    "#### Example ####\n",
    "\n",
    "ID: 476\n",
    "Label: True\n",
    "Prediction: False\n",
    "Confidence: 0.8058809\n",
    "Comment: Schon viele Artikel ueber fluechtlinge gelesen und so manches mal wusste ich nicht ob ich lachen oder weinen sollte abe r dieser Artikel uebertrifft alles ....Armutszeugnis fuer den deutschen Journalismus ."
   ]
  },
  {
   "cell_type": "code",
   "execution_count": 10,
   "metadata": {},
   "outputs": [],
   "source": [
    "%run ../config.ipynb\n",
    "# contains a function for loading the predictions\n",
    "# and generating the dictionaries\n",
    "%run ../lib/data_loader.ipynb\n",
    "%run ../lib/helper_functions.ipynb\n",
    "# function for showing diagram\n",
    "%run ../lib/diagram_generator.ipynb\n",
    "# function for showing metrics\n",
    "%run ../lib/metrics_generator.ipynb\n",
    "# function for showing data table\n",
    "%run ../lib/table_generator.ipynb\n",
    "\n",
    "# the second parameter of load_data desides if you want to generate dictionaries\n",
    "# you can find the dicts inside the data_loader file\n",
    "data = load_data('../data/predictions.json')"
   ]
  },
  {
   "cell_type": "markdown",
   "metadata": {},
   "source": [
    "##### Create Filters #####"
   ]
  },
  {
   "cell_type": "code",
   "execution_count": 4,
   "metadata": {},
   "outputs": [],
   "source": [
    "# create spellchecker\n",
    "from spellchecker import SpellChecker\n",
    "spellChecker = SpellChecker(language=u'de', case_sensitive=True)\n",
    "\n",
    "# filter that passes everything\n",
    "def all(c):\n",
    "    return True\n",
    "\n",
    "# returns the number of errors\n",
    "def get_errors(tokens):\n",
    "    return len(spellChecker.unknown(tokens.text))\n",
    "\n",
    "# this function generates a filter based on\n",
    "# the i value that defines the number of tokens\n",
    "# wich should be false\n",
    "def generate_filter(i):\n",
    "    def f(element):\n",
    "        ld = get_errors(element['tokens'])\n",
    "        if ld == i:\n",
    "            return True\n",
    "        return False\n",
    "    return f\n"
   ]
  },
  {
   "cell_type": "markdown",
   "metadata": {},
   "source": [
    "##### Creates diagram from array of filters #####"
   ]
  },
  {
   "cell_type": "code",
   "execution_count": 5,
   "metadata": {},
   "outputs": [
    {
     "data": {
      "image/png": "[encoded data removed]",
      "text/plain": [
       "<Figure size 432x288 with 1 Axes>"
      ]
     },
     "metadata": {
      "needs_background": "light"
     },
     "output_type": "display_data"
    },
    {
     "data": {
      "image/png": "[encoded data removed]",
      "text/plain": [
       "<Figure size 432x288 with 1 Axes>"
      ]
     },
     "metadata": {
      "needs_background": "light"
     },
     "output_type": "display_data"
    }
   ],
   "source": [
    "diagram_filters = []\n",
    "diagram_filters.append(('all', all))\n",
    "\n",
    "start = 0\n",
    "stop = 10\n",
    "step = 1\n",
    "for i in range(start, stop, step):\n",
    "    diagram_filters.append(('%s' % (i),generate_filter(i)))\n",
    "\n",
    "#name, filters, relative\n",
    "create_plt(name = \"absolute\", filters = diagram_filters, relative = False)\n",
    "create_plt(name = \"relative\", filters = diagram_filters, relative = True)"
   ]
  },
  {
   "cell_type": "markdown",
   "metadata": {},
   "source": [
    "##### Calculating metrics for different filters #####"
   ]
  },
  {
   "cell_type": "code",
   "execution_count": 11,
   "metadata": {},
   "outputs": [
    {
     "name": "stdout",
     "output_type": "stream",
     "text": [
      "All\n"
     ]
    },
    {
     "data": {
      "text/html": [
       "<table>\n",
       "<tbody>\n",
       "<tr><td>                 </td><td>label hate (287)</td><td>label nohate (383)</td></tr>\n",
       "<tr><td>pred hate (245)  </td><td>157             </td><td>88                </td></tr>\n",
       "<tr><td>pred nohate (425)</td><td>130             </td><td>295               </td></tr>\n",
       "</tbody>\n",
       "</table>"
      ],
      "text/plain": [
       "<IPython.core.display.HTML object>"
      ]
     },
     "metadata": {},
     "output_type": "display_data"
    },
    {
     "data": {
      "text/html": [
       "<table>\n",
       "<tbody>\n",
       "<tr><td>accuracy          </td><td>precision         </td><td>recall            </td><td>f1_score          </td></tr>\n",
       "<tr><td>0.6746268656716418</td><td>0.6408163265306123</td><td>0.5470383275261324</td><td>0.5902255639097745</td></tr>\n",
       "</tbody>\n",
       "</table>"
      ],
      "text/plain": [
       "<IPython.core.display.HTML object>"
      ]
     },
     "metadata": {},
     "output_type": "display_data"
    },
    {
     "name": "stdout",
     "output_type": "stream",
     "text": [
      "number of misspelled words: 3\n"
     ]
    },
    {
     "data": {
      "text/html": [
       "<table>\n",
       "<tbody>\n",
       "<tr><td>                </td><td>label hate (84)</td><td>label nohate (64)</td></tr>\n",
       "<tr><td>pred hate (60)  </td><td>44             </td><td>16               </td></tr>\n",
       "<tr><td>pred nohate (88)</td><td>40             </td><td>48               </td></tr>\n",
       "</tbody>\n",
       "</table>"
      ],
      "text/plain": [
       "<IPython.core.display.HTML object>"
      ]
     },
     "metadata": {},
     "output_type": "display_data"
    },
    {
     "data": {
      "text/html": [
       "<table>\n",
       "<tbody>\n",
       "<tr><td>accuracy          </td><td>precision         </td><td>recall            </td><td>f1_score         </td></tr>\n",
       "<tr><td>0.6216216216216216</td><td>0.7333333333333333</td><td>0.5238095238095238</td><td>0.611111111111111</td></tr>\n",
       "</tbody>\n",
       "</table>"
      ],
      "text/plain": [
       "<IPython.core.display.HTML object>"
      ]
     },
     "metadata": {},
     "output_type": "display_data"
    },
    {
     "name": "stdout",
     "output_type": "stream",
     "text": [
      "number of misspelled words: 3 difference\n"
     ]
    },
    {
     "data": {
      "text/html": [
       "<table>\n",
       "<tbody>\n",
       "<tr><td>                 </td><td>label hate (287)</td><td>label nohate (383)</td></tr>\n",
       "<tr><td>pred hate (269)  </td><td>197             </td><td>72                </td></tr>\n",
       "<tr><td>pred nohate (401)</td><td>90              </td><td>311               </td></tr>\n",
       "</tbody>\n",
       "</table>"
      ],
      "text/plain": [
       "<IPython.core.display.HTML object>"
      ]
     },
     "metadata": {},
     "output_type": "display_data"
    },
    {
     "data": {
      "text/html": [
       "<table>\n",
       "<tbody>\n",
       "<tr><td>accuracy          </td><td>precision         </td><td>recall           </td><td>f1_score          </td></tr>\n",
       "<tr><td>0.7582089552238805</td><td>0.7323420074349443</td><td>0.686411149825784</td><td>0.7086330935251799</td></tr>\n",
       "</tbody>\n",
       "</table>"
      ],
      "text/plain": [
       "<IPython.core.display.HTML object>"
      ]
     },
     "metadata": {},
     "output_type": "display_data"
    }
   ],
   "source": [
    "print('All')\n",
    "show_metrics(calc_metrics())\n",
    "\n",
    "print('number of misspelled words: 3')\n",
    "show_metrics(calc_metrics(diagram_filters[4][1]))\n",
    "\n",
    "# shows the difference between the the metric of all predictions\n",
    "# and the metric for a single filter\n",
    "print('number of misspelled words: 3 difference')\n",
    "show_metrics(calc_metric_difference(calc_metrics(diagram_filters[4][1])))"
   ]
  },
  {
   "cell_type": "code",
   "execution_count": null,
   "metadata": {},
   "outputs": [],
   "source": []
  }
 ],
 "metadata": {
  "kernelspec": {
   "display_name": "Python 3",
   "language": "python",
   "name": "python3"
  },
  "language_info": {
   "codemirror_mode": {
    "name": "ipython",
    "version": 3
   },
   "file_extension": ".py",
   "mimetype": "text/x-python",
   "name": "python",
   "nbconvert_exporter": "python",
   "pygments_lexer": "ipython3",
   "version": "3.7.6"
  }
 },
 "nbformat": 4,
 "nbformat_minor": 2
}
