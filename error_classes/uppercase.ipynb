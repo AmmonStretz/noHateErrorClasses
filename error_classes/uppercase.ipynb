{
 "cells": [
  {
   "cell_type": "markdown",
   "metadata": {},
   "source": [
    "# uppercase #\n",
    "\n",
    "Hypothese: Die Nutzung von Wörtern, die komplett groß geschrieben werden hat einfluss auf die Fehlerrate, da das Model diesen Wörtern eine negative Konnutation zuschreibt.\n",
    "\n",
    "Grund: Statische Analyse\n",
    "TODO: BSP"
   ]
  },
  {
   "cell_type": "code",
   "execution_count": 2,
   "metadata": {},
   "outputs": [],
   "source": [
    "%run ../config.ipynb\n",
    "%run ../lib/data_loader.ipynb\n",
    "%run ../lib/helper_functions.ipynb\n",
    "%run ../lib/diagram_generator.ipynb\n",
    "%run ../lib/metrics_generator.ipynb\n",
    "%run ../lib/table_generator.ipynb\n",
    "\n",
    "data = load_data('../data/predictions.json')"
   ]
  },
  {
   "cell_type": "code",
   "execution_count": 3,
   "metadata": {},
   "outputs": [],
   "source": [
    "def all(c):\n",
    "    return True\n",
    "def uppercase_average_word(tokens):\n",
    "    return uppercase_words(tokens) / len(tokens) * 100\n",
    "def uppercase_words(tokens):\n",
    "    counter = 0\n",
    "    for word in tokens:\n",
    "        if word.text.isupper():\n",
    "            counter += 1;\n",
    "    return counter\n",
    "def lowercase_average_word(tokens):\n",
    "    return lowercase_words(tokens) / len(tokens) * 100\n",
    "def lowercase_words(tokens):\n",
    "    counter = 0\n",
    "    for word in tokens:\n",
    "        if word.islower():\n",
    "            counter += 1;\n",
    "    return counter\n",
    "def generate_filter(fr, to, filter_function):\n",
    "    def f(element):\n",
    "        ld = filter_function(element['tokens'])\n",
    "        if ld >= fr and ld < to:\n",
    "            return True\n",
    "        return False\n",
    "    return f\n",
    "\n",
    "def add_filter_interval(filter_list, start, stop, step, func):\n",
    "    for i in range(start, stop, step):\n",
    "        filter_list.append(('%s-%s' % (i, i+step-1),generate_filter(i, i+step, func)))"
   ]
  },
  {
   "cell_type": "code",
   "execution_count": null,
   "metadata": {},
   "outputs": [],
   "source": [
    "show_data(contains_question)"
   ]
  },
  {
   "cell_type": "code",
   "execution_count": 8,
   "metadata": {},
   "outputs": [
    {
     "name": "stdout",
     "output_type": "stream",
     "text": [
      "uppercase word count\n"
     ]
    },
    {
     "data": {
      "image/png": "[encoded data removed]",
      "text/plain": [
       "<Figure size 432x288 with 1 Axes>"
      ]
     },
     "metadata": {
      "needs_background": "light"
     },
     "output_type": "display_data"
    },
    {
     "data": {
      "image/png": "[encoded data removed]",
      "text/plain": [
       "<Figure size 432x288 with 1 Axes>"
      ]
     },
     "metadata": {
      "needs_background": "light"
     },
     "output_type": "display_data"
    }
   ],
   "source": [
    "uppercase_filters = []\n",
    "uppercase_filters.append(('all', all))\n",
    "step = 1\n",
    "for i in range(0, 7, step):\n",
    "    uppercase_filters.append(('%s' % (i),generate_filter(i, i+step, uppercase_words)))\n",
    "\n",
    "#name, filters, relative\n",
    "print('uppercase word count')\n",
    "create_plt(name = \"absolute\", filters = uppercase_filters[1:], relative = False)\n",
    "create_plt(name = \"relative\", filters = uppercase_filters, relative = True)"
   ]
  },
  {
   "cell_type": "code",
   "execution_count": 10,
   "metadata": {},
   "outputs": [
    {
     "name": "stdout",
     "output_type": "stream",
     "text": [
      "All\n"
     ]
    },
    {
     "data": {
      "text/html": [
       "<table>\n",
       "<tbody>\n",
       "<tr><td>                 </td><td>label hate (287)</td><td>label nohate (383)</td></tr>\n",
       "<tr><td>pred hate (245)  </td><td>157             </td><td>88                </td></tr>\n",
       "<tr><td>pred nohate (425)</td><td>130             </td><td>295               </td></tr>\n",
       "</tbody>\n",
       "</table>"
      ],
      "text/plain": [
       "<IPython.core.display.HTML object>"
      ]
     },
     "metadata": {},
     "output_type": "display_data"
    },
    {
     "data": {
      "text/html": [
       "<table>\n",
       "<tbody>\n",
       "<tr><td>accuracy          </td><td>precision         </td><td>recall            </td><td>f1_score          </td></tr>\n",
       "<tr><td>0.6746268656716418</td><td>0.6408163265306123</td><td>0.5470383275261324</td><td>0.5902255639097745</td></tr>\n",
       "</tbody>\n",
       "</table>"
      ],
      "text/plain": [
       "<IPython.core.display.HTML object>"
      ]
     },
     "metadata": {},
     "output_type": "display_data"
    },
    {
     "name": "stdout",
     "output_type": "stream",
     "text": [
      "1-4\n"
     ]
    },
    {
     "data": {
      "text/html": [
       "<table>\n",
       "<tbody>\n",
       "<tr><td>                </td><td>label hate (67)</td><td>label nohate (67)</td></tr>\n",
       "<tr><td>pred hate (52)  </td><td>32             </td><td>20               </td></tr>\n",
       "<tr><td>pred nohate (82)</td><td>35             </td><td>47               </td></tr>\n",
       "</tbody>\n",
       "</table>"
      ],
      "text/plain": [
       "<IPython.core.display.HTML object>"
      ]
     },
     "metadata": {},
     "output_type": "display_data"
    },
    {
     "data": {
      "text/html": [
       "<table>\n",
       "<tbody>\n",
       "<tr><td>accuracy          </td><td>precision         </td><td>recall             </td><td>f1_score          </td></tr>\n",
       "<tr><td>0.5895522388059702</td><td>0.6153846153846154</td><td>0.47761194029850745</td><td>0.5378151260504201</td></tr>\n",
       "</tbody>\n",
       "</table>"
      ],
      "text/plain": [
       "<IPython.core.display.HTML object>"
      ]
     },
     "metadata": {},
     "output_type": "display_data"
    },
    {
     "name": "stdout",
     "output_type": "stream",
     "text": [
      "Verbesserung 1-4\n"
     ]
    },
    {
     "data": {
      "text/html": [
       "<table>\n",
       "<tbody>\n",
       "<tr><td>                 </td><td>label hate (287)</td><td>label nohate (383)</td></tr>\n",
       "<tr><td>pred hate (260)  </td><td>192             </td><td>68                </td></tr>\n",
       "<tr><td>pred nohate (410)</td><td>95              </td><td>315               </td></tr>\n",
       "</tbody>\n",
       "</table>"
      ],
      "text/plain": [
       "<IPython.core.display.HTML object>"
      ]
     },
     "metadata": {},
     "output_type": "display_data"
    },
    {
     "data": {
      "text/html": [
       "<table>\n",
       "<tbody>\n",
       "<tr><td>accuracy          </td><td>precision         </td><td>recall            </td><td>f1_score          </td></tr>\n",
       "<tr><td>0.7567164179104477</td><td>0.7384615384615385</td><td>0.6689895470383276</td><td>0.7020109689213895</td></tr>\n",
       "</tbody>\n",
       "</table>"
      ],
      "text/plain": [
       "<IPython.core.display.HTML object>"
      ]
     },
     "metadata": {},
     "output_type": "display_data"
    }
   ],
   "source": [
    "print('All')\n",
    "show_metrics(calc_metrics())\n",
    "print('1-4')\n",
    "show_metrics(calc_metrics(generate_filter(1, 20, uppercase_words)))\n",
    "print('Verbesserung 1-4')\n",
    "show_metrics(calc_metric_difference(calc_metrics(generate_filter(1, 20, uppercase_words))))"
   ]
  },
  {
   "cell_type": "code",
   "execution_count": 6,
   "metadata": {},
   "outputs": [
    {
     "name": "stdout",
     "output_type": "stream",
     "text": [
      "uppercase word count average\n"
     ]
    },
    {
     "data": {
      "image/png": "[encoded data removed]",
      "text/plain": [
       "<Figure size 432x288 with 1 Axes>"
      ]
     },
     "metadata": {
      "needs_background": "light"
     },
     "output_type": "display_data"
    },
    {
     "data": {
      "image/png": "[encoded data removed]",
      "text/plain": [
       "<Figure size 432x288 with 1 Axes>"
      ]
     },
     "metadata": {
      "needs_background": "light"
     },
     "output_type": "display_data"
    }
   ],
   "source": [
    "uppercase_average_filters = []\n",
    "uppercase_average_filters.append(('all', all))\n",
    "step = 10\n",
    "for i in range(0, 100, step):\n",
    "    uppercase_average_filters.append(('%s-%s' % (i, i+step),generate_filter(i, i+step, uppercase_average_word)))\n",
    "\n",
    "#name, filters, relative\n",
    "print('uppercase word count average')\n",
    "create_plt(name = \"Test1 absolute\", filters = uppercase_average_filters[1:], relative = False)\n",
    "create_plt(name = \"Test1 relative\", filters = uppercase_average_filters, relative = True)"
   ]
  },
  {
   "cell_type": "code",
   "execution_count": 7,
   "metadata": {},
   "outputs": [
    {
     "name": "stdout",
     "output_type": "stream",
     "text": [
      "All\n"
     ]
    },
    {
     "data": {
      "text/html": [
       "<table>\n",
       "<tbody>\n",
       "<tr><td>                 </td><td>label hate (287)</td><td>label nohate (383)</td></tr>\n",
       "<tr><td>pred hate (245)  </td><td>157             </td><td>88                </td></tr>\n",
       "<tr><td>pred nohate (425)</td><td>130             </td><td>295               </td></tr>\n",
       "</tbody>\n",
       "</table>"
      ],
      "text/plain": [
       "<IPython.core.display.HTML object>"
      ]
     },
     "metadata": {},
     "output_type": "display_data"
    },
    {
     "data": {
      "text/html": [
       "<table>\n",
       "<tbody>\n",
       "<tr><td>accuracy          </td><td>precision         </td><td>recall            </td><td>f1_score          </td></tr>\n",
       "<tr><td>0.6746268656716418</td><td>0.6408163265306123</td><td>0.5470383275261324</td><td>0.5902255639097745</td></tr>\n",
       "</tbody>\n",
       "</table>"
      ],
      "text/plain": [
       "<IPython.core.display.HTML object>"
      ]
     },
     "metadata": {},
     "output_type": "display_data"
    },
    {
     "name": "stdout",
     "output_type": "stream",
     "text": [
      "1-4\n"
     ]
    },
    {
     "data": {
      "text/html": [
       "<table>\n",
       "<tbody>\n",
       "<tr><td>                </td><td>label hate (43)</td><td>label nohate (29)</td></tr>\n",
       "<tr><td>pred hate (32)  </td><td>22             </td><td>10               </td></tr>\n",
       "<tr><td>pred nohate (40)</td><td>21             </td><td>19               </td></tr>\n",
       "</tbody>\n",
       "</table>"
      ],
      "text/plain": [
       "<IPython.core.display.HTML object>"
      ]
     },
     "metadata": {},
     "output_type": "display_data"
    },
    {
     "data": {
      "text/html": [
       "<table>\n",
       "<tbody>\n",
       "<tr><td>accuracy          </td><td>precision</td><td>recall            </td><td>f1_score          </td></tr>\n",
       "<tr><td>0.5694444444444444</td><td>0.6875   </td><td>0.5116279069767442</td><td>0.5866666666666667</td></tr>\n",
       "</tbody>\n",
       "</table>"
      ],
      "text/plain": [
       "<IPython.core.display.HTML object>"
      ]
     },
     "metadata": {},
     "output_type": "display_data"
    },
    {
     "name": "stdout",
     "output_type": "stream",
     "text": [
      "Verbesserung 1-4\n"
     ]
    },
    {
     "data": {
      "text/html": [
       "<table>\n",
       "<tbody>\n",
       "<tr><td>                 </td><td>label hate (287)</td><td>label nohate (383)</td></tr>\n",
       "<tr><td>pred hate (256)  </td><td>178             </td><td>78                </td></tr>\n",
       "<tr><td>pred nohate (414)</td><td>109             </td><td>305               </td></tr>\n",
       "</tbody>\n",
       "</table>"
      ],
      "text/plain": [
       "<IPython.core.display.HTML object>"
      ]
     },
     "metadata": {},
     "output_type": "display_data"
    },
    {
     "data": {
      "text/html": [
       "<table>\n",
       "<tbody>\n",
       "<tr><td>accuracy          </td><td>precision</td><td>recall            </td><td>f1_score          </td></tr>\n",
       "<tr><td>0.7208955223880597</td><td>0.6953125</td><td>0.6202090592334495</td><td>0.6556169429097606</td></tr>\n",
       "</tbody>\n",
       "</table>"
      ],
      "text/plain": [
       "<IPython.core.display.HTML object>"
      ]
     },
     "metadata": {},
     "output_type": "display_data"
    }
   ],
   "source": [
    "print('All')\n",
    "show_metrics(calc_metrics())\n",
    "print('1-4')\n",
    "show_metrics(calc_metrics(generate_filter(1, 4, uppercase_average_word)))\n",
    "print('Verbesserung 1-4')\n",
    "show_metrics(calc_metric_difference(calc_metrics(generate_filter(1, 4, uppercase_average_word))))"
   ]
  },
  {
   "cell_type": "code",
   "execution_count": null,
   "metadata": {},
   "outputs": [],
   "source": []
  }
 ],
 "metadata": {
  "kernelspec": {
   "display_name": "Python 3",
   "language": "python",
   "name": "python3"
  },
  "language_info": {
   "codemirror_mode": {
    "name": "ipython",
    "version": 3
   },
   "file_extension": ".py",
   "mimetype": "text/x-python",
   "name": "python",
   "nbconvert_exporter": "python",
   "pygments_lexer": "ipython3",
   "version": "3.7.6"
  }
 },
 "nbformat": 4,
 "nbformat_minor": 2
}
