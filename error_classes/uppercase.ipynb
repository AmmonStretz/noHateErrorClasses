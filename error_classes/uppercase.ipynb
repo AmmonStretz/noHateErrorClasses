{
 "cells": [
  {
   "cell_type": "markdown",
   "metadata": {},
   "source": [
    "# Uppercase Words #\n",
    "\n",
    "Hypothesis: \"The model overemphasizes words written in upper case, especially acronyms.\"\n",
    "Grund: Statische Analyse\"\n",
    "\n",
    "Reason: Manual Analysis\n",
    "\n",
    "#### Example ####\n",
    "\n",
    "ID: 159\n",
    "Label: False\n",
    "Prediction: True\n",
    "Confidence: 0.9195905\n",
    "Comment: Das bedeutet aber nicht, dass diese Menschen auch der BILD folgen oder das glauben, was in dem Schundblatt steht. Auch ich schaue mir die Artikel gelegentlich an – es ist wichtig, zu wissen, was der Feind so von sich gibt. Und ich gehe davon aus, dass sämtliche Politiker in Deutschland regelmäßig die eigene Propaganda lesen wollen.\n",
    "\n",
    "ID: 547\n",
    "Label: False\n",
    "Prediction: True\n",
    "Confidence: 0.6642318\n",
    "Comment: Merkel betreibt eine Grüne Politik. Sie ist eine Grüne Kanzlerin. Und die CDU Basis lässt sich das bieten...\n",
    "\n",
    "ID: 659\n",
    "Label: True\n",
    "Prediction: False\n",
    "Confidence: 0.73601043\n",
    "Comment: Merkel hat mit der Grenzöffnung Europa den größten Schaden seit dem 2. WK zugefügt!"
   ]
  },
  {
   "cell_type": "code",
   "execution_count": 1,
   "metadata": {},
   "outputs": [],
   "source": [
    "%run ../config.ipynb\n",
    "%run ../lib/data_loader.ipynb\n",
    "%run ../lib/helper_functions.ipynb\n",
    "%run ../lib/diagram_generator.ipynb\n",
    "%run ../lib/metrics_generator.ipynb\n",
    "%run ../lib/table_generator.ipynb\n",
    "\n",
    "data = load_data('../data/predictions.json')"
   ]
  },
  {
   "cell_type": "code",
   "execution_count": 2,
   "metadata": {},
   "outputs": [],
   "source": [
    "def all(c):\n",
    "    return True\n",
    "\n",
    "def lowercase_average_word(tokens):\n",
    "    return lowercase_words(tokens) / len(tokens) * 100\n",
    "def lowercase_words(tokens):\n",
    "    counter = 0\n",
    "    for word in tokens:\n",
    "        if word.islower():\n",
    "            counter += 1;\n",
    "    return counter\n",
    "def uppercase_average_word(tokens):\n",
    "    return uppercase_words(tokens) / len(tokens) * 100\n",
    "\n",
    "def uppercase_words(tokens):\n",
    "    counter = 0\n",
    "    for word in tokens:\n",
    "        if word.text.isupper():\n",
    "            counter += 1;\n",
    "    return counter\n",
    "\n",
    "def generate_filter(fr, to, filter_function = uppercase_words):\n",
    "    def f(element):\n",
    "        ld = filter_function(element['tokens'])\n",
    "        if ld >= fr and ld < to:\n",
    "            return True\n",
    "        return False\n",
    "    return f\n",
    "\n",
    "def add_filter_interval(filter_list, start, stop, step, func):\n",
    "    for i in range(start, stop, step):\n",
    "        filter_list.append(('%s-%s' % (i, i+step-1),generate_filter(i, i+step, func)))"
   ]
  },
  {
   "cell_type": "code",
   "execution_count": 4,
   "metadata": {},
   "outputs": [
    {
     "name": "stdout",
     "output_type": "stream",
     "text": [
      "uppercase word count\n"
     ]
    },
    {
     "data": {
      "image/png": "[encoded data removed]",
      "text/plain": [
       "<Figure size 432x288 with 1 Axes>"
      ]
     },
     "metadata": {
      "needs_background": "light"
     },
     "output_type": "display_data"
    },
    {
     "data": {
      "image/png": "[encoded data removed]",
      "text/plain": [
       "<Figure size 432x288 with 1 Axes>"
      ]
     },
     "metadata": {
      "needs_background": "light"
     },
     "output_type": "display_data"
    }
   ],
   "source": [
    "uppercase_filters = []\n",
    "uppercase_filters.append(('all', all))\n",
    "step = 1\n",
    "for i in range(0, 7, step):\n",
    "    uppercase_filters.append(('%s' % (i),generate_filter(i, i+step, uppercase_words)))\n",
    "\n",
    "#name, filters, relative\n",
    "print('uppercase word count')\n",
    "create_plt(name = \"absolute\", filters = uppercase_filters[1:], relative = False)\n",
    "create_plt(name = \"relative\", filters = uppercase_filters, relative = True)"
   ]
  },
  {
   "cell_type": "code",
   "execution_count": null,
   "metadata": {},
   "outputs": [],
   "source": [
    "print('All')\n",
    "show_metrics(calc_metrics())\n",
    "print('1-4')\n",
    "show_metrics(calc_metrics(generate_filter(1, 20, uppercase_words)))\n",
    "print('Verbesserung 1-4')\n",
    "show_metrics(calc_metric_difference(calc_metrics(generate_filter(1, 20, uppercase_words))))"
   ]
  },
  {
   "cell_type": "code",
   "execution_count": null,
   "metadata": {},
   "outputs": [],
   "source": [
    "uppercase_average_filters = []\n",
    "uppercase_average_filters.append(('all', all))\n",
    "step = 10\n",
    "for i in range(0, 100, step):\n",
    "    uppercase_average_filters.append(('%s-%s' % (i, i+step),generate_filter(i, i+step, uppercase_average_word)))\n",
    "\n",
    "#name, filters, relative\n",
    "print('uppercase word count average')\n",
    "create_plt(name = \"Test1 absolute\", filters = uppercase_average_filters[1:], relative = False)\n",
    "create_plt(name = \"Test1 relative\", filters = uppercase_average_filters, relative = True)"
   ]
  },
  {
   "cell_type": "code",
   "execution_count": null,
   "metadata": {},
   "outputs": [],
   "source": [
    "print('All')\n",
    "show_metrics(calc_metrics())\n",
    "print('1-4')\n",
    "show_metrics(calc_metrics(generate_filter(1, 4, uppercase_average_word)))\n",
    "print('Verbesserung 1-4')\n",
    "show_metrics(calc_metric_difference(calc_metrics(generate_filter(1, 4, uppercase_average_word))))"
   ]
  },
  {
   "cell_type": "code",
   "execution_count": null,
   "metadata": {},
   "outputs": [],
   "source": []
  }
 ],
 "metadata": {
  "kernelspec": {
   "display_name": "Python 3",
   "language": "python",
   "name": "python3"
  },
  "language_info": {
   "codemirror_mode": {
    "name": "ipython",
    "version": 3
   },
   "file_extension": ".py",
   "mimetype": "text/x-python",
   "name": "python",
   "nbconvert_exporter": "python",
   "pygments_lexer": "ipython3",
   "version": "3.7.6"
  }
 },
 "nbformat": 4,
 "nbformat_minor": 2
}
