{
 "cells": [
  {
   "cell_type": "code",
   "execution_count": 1,
   "metadata": {},
   "outputs": [],
   "source": [
    "import spacy\n",
    "#from spacy_readability import Readability\n",
    "import json\n",
    "import tabulate\n",
    "\n",
    "nlp = spacy.load(\"de_core_news_sm\")"
   ]
  },
  {
   "cell_type": "code",
   "execution_count": 2,
   "metadata": {},
   "outputs": [],
   "source": [
    "dictionary = {}\n",
    "dictionary_lemma = {}\n",
    "dictionary_adj = {}\n",
    "dictionary_noun = {}\n",
    "dictionary_verb = {}"
   ]
  },
  {
   "cell_type": "code",
   "execution_count": 3,
   "metadata": {},
   "outputs": [],
   "source": [
    "def getEmptyElement():\n",
    "    return {\"count\": 0, \"tp\": 0, \"tn\": 0, \"fp\": 0, \"fn\": 0}\n",
    "def setProp(label, prediction):\n",
    "    if label and prediction:\n",
    "        return 'tp'\n",
    "    if not label and not prediction:\n",
    "        return 'tn'\n",
    "    if not label and prediction:\n",
    "        return 'fp'\n",
    "    if label and not prediction:\n",
    "        return 'fn'\n",
    "def addProp(name, element):\n",
    "    element['count'] += 1\n",
    "    element[name] += 1\n",
    "    return element\n",
    "\n",
    "def createLibrary(data):\n",
    "    for d in data:\n",
    "        prop = setProp( d['label'], d['prediction'])\n",
    "        for t in d['tokens']:\n",
    "            if t.text not in dictionary:\n",
    "                dictionary[t.text] =  getEmptyElement()\n",
    "            addProp(prop, dictionary[t.text])\n",
    "            \n",
    "            if t.lemma_ not in dictionary_lemma:\n",
    "                dictionary_lemma[t.lemma_] =  getEmptyElement()\n",
    "            addProp(prop, dictionary_lemma[t.lemma_])\n",
    "                \n",
    "            if t.pos_ == \"ADJ\":\n",
    "                if t.text not in dictionary_adj:\n",
    "                    dictionary_adj[t.text] =  getEmptyElement()\n",
    "                addProp(prop, dictionary_adj[t.text])\n",
    "                \n",
    "            if t.pos_ == \"NOUN\":\n",
    "                if t.text not in dictionary_noun:\n",
    "                    dictionary_noun[t.text] =  getEmptyElement()\n",
    "                addProp(prop, dictionary_noun[t.text])\n",
    "                \n",
    "            if t.pos_ == \"VERB\":\n",
    "                if t.text not in dictionary_verb:\n",
    "                    dictionary_verb[t.text] =  getEmptyElement()\n",
    "                addProp(prop, dictionary_verb[t.text])\n",
    "        \n",
    "def load_data(path, createlib = False):\n",
    "    with open(path) as json_file:\n",
    "        data = json.load(json_file)\n",
    "        for comment in data:\n",
    "            doc = nlp(comment['text'])\n",
    "            comment['tokens'] = doc\n",
    "        if createlib:\n",
    "            createLibrary(data)\n",
    "        return data"
   ]
  },
  {
   "cell_type": "code",
   "execution_count": 4,
   "metadata": {},
   "outputs": [],
   "source": [
    "def printFirst100():\n",
    "    s = sorted(dictionary, key=dictionary.get, reverse=True)\n",
    "    def lengthFilter(e):\n",
    "        return len(e)>3 and (len(e) > 5 or e[0].isupper())\n",
    "    s = list(filter(lengthFilter, s))\n",
    "    for i in range(100):\n",
    "        print(s[i])"
   ]
  }
 ],
 "metadata": {
  "kernelspec": {
   "display_name": "Python 3",
   "language": "python",
   "name": "python3"
  },
  "language_info": {
   "codemirror_mode": {
    "name": "ipython",
    "version": 3
   },
   "file_extension": ".py",
   "mimetype": "text/x-python",
   "name": "python",
   "nbconvert_exporter": "python",
   "pygments_lexer": "ipython3",
   "version": "3.7.6"
  }
 },
 "nbformat": 4,
 "nbformat_minor": 4
}
