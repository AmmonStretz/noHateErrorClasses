{
 "cells": [
  {
   "cell_type": "code",
   "execution_count": 1,
   "metadata": {},
   "outputs": [],
   "source": [
    "def default_filter(el):\n",
    "    return True"
   ]
  },
  {
   "cell_type": "code",
   "execution_count": 2,
   "metadata": {},
   "outputs": [],
   "source": [
    "def calc_accuracy(tp, fp, fn, tn):\n",
    "    accuracy = 0\n",
    "    if (tp + fp + fn + tn) != 0:\n",
    "        accuracy = (tp + tn) / (tp + fp + fn + tn)\n",
    "    return accuracy\n",
    "\n",
    "def calc_precision(tp, fp, fn, tn):\n",
    "    precision = 0\n",
    "    if (tp + fp) != 0:\n",
    "        precision = tp / (tp + fp)\n",
    "    return precision\n",
    "    \n",
    "\n",
    "def calc_recall(tp, fp, fn, tn):\n",
    "    recall = 0\n",
    "    if (tp + fn) != 0:\n",
    "        recall = tp / (tp + fn)\n",
    "        return recall\n",
    "        \n",
    "def calc_f1_score(recall, precision):\n",
    "    f1_score = 0\n",
    "    if (recall + precision) != 0:\n",
    "        f1_score = (2 * (recall * precision)) / (recall + precision)\n",
    "    return f1_score"
   ]
  },
  {
   "cell_type": "code",
   "execution_count": 3,
   "metadata": {},
   "outputs": [],
   "source": [
    "def calc_metrics(f = default_filter):\n",
    "    tp = 0\n",
    "    tn = 0\n",
    "    fp = 0\n",
    "    fn = 0\n",
    "    for el in filter(f, data):\n",
    "        if el['label'] and el['prediction']:\n",
    "            tp += 1\n",
    "        if not el['label'] and not el['prediction']:\n",
    "            tn += 1\n",
    "        if el['label'] and not el['prediction']:\n",
    "            fp += 1\n",
    "        if not el['label'] and el['prediction']:\n",
    "            fn += 1\n",
    "    \n",
    "    accuracy = calc_accuracy(tp, fp, fn, tn)\n",
    "    precision = calc_precision(tp, fp, fn, tn)\n",
    "    recall = calc_recall(tp, fp, fn, tn)\n",
    "    f1_score = calc_f1_score(recall, precision)\n",
    "    \n",
    "    return {\n",
    "        \"tp\": tp,\n",
    "        \"tn\": tn,\n",
    "        \"fp\": fp,\n",
    "        \"fn\": fn,\n",
    "        \"prediction_hate\": tp + fp,\n",
    "        \"prediction_nohate\": fn + tn,\n",
    "        \"label_hate\": tp+fn,\n",
    "        \"label_nohate\": fp+tn,\n",
    "        \"accuracy\": accuracy,\n",
    "        \"precision\": precision,\n",
    "        \"recall\": recall,\n",
    "        \"f1_score\": f1_score\n",
    "    }"
   ]
  },
  {
   "cell_type": "code",
   "execution_count": 4,
   "metadata": {},
   "outputs": [],
   "source": [
    "def calc_metric_difference(metrics):\n",
    "    default = calc_metrics()\n",
    "    tp = default['tp'] + metrics['fn'] #fp\n",
    "    tn = default['tn'] + metrics['fp'] #fn\n",
    "    fn = default['fn'] - metrics['fn']\n",
    "    fp = default['fp'] - metrics['fp']\n",
    "    \n",
    "    accuracy = calc_accuracy(tp, fp, fn, tn)\n",
    "    precision = calc_precision(tp, fp, fn, tn)\n",
    "    recall = calc_recall(tp, fp, fn, tn)\n",
    "    f1_score = calc_f1_score(recall, precision)\n",
    "    \n",
    "    return {\n",
    "        \"tp\": tp,\n",
    "        \"tn\": tn,\n",
    "        \"fp\": fp,\n",
    "        \"fn\": fn,\n",
    "        \"prediction_hate\": tp + fp,\n",
    "        \"prediction_nohate\": fn + tn,\n",
    "        \"label_hate\": default['label_hate'],\n",
    "        \"label_nohate\": default['label_nohate'],\n",
    "        \"accuracy\": accuracy,\n",
    "        \"precision\": precision,\n",
    "        \"recall\": recall,\n",
    "        \"f1_score\": f1_score\n",
    "    }"
   ]
  },
  {
   "cell_type": "code",
   "execution_count": null,
   "metadata": {},
   "outputs": [],
   "source": []
  }
 ],
 "metadata": {
  "kernelspec": {
   "display_name": "Python 3",
   "language": "python",
   "name": "python3"
  },
  "language_info": {
   "codemirror_mode": {
    "name": "ipython",
    "version": 3
   },
   "file_extension": ".py",
   "mimetype": "text/x-python",
   "name": "python",
   "nbconvert_exporter": "python",
   "pygments_lexer": "ipython3",
   "version": "3.7.6"
  }
 },
 "nbformat": 4,
 "nbformat_minor": 4
}
